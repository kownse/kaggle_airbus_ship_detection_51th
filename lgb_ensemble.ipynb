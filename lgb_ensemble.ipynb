{
 "cells": [
  {
   "cell_type": "code",
   "execution_count": 1,
   "metadata": {},
   "outputs": [],
   "source": [
    "# -*- coding: utf-8 -*-\n",
    "from os import path, mkdir\n",
    "import numpy as np\n",
    "np.random.seed(1)\n",
    "import random\n",
    "random.seed(1)\n",
    "import timeit\n",
    "import cv2\n",
    "from tqdm import tqdm\n",
    "from skimage import measure\n",
    "from multiprocessing import Pool\n",
    "import lightgbm as lgb\n",
    "from sklearn.model_selection import KFold\n",
    "from sklearn.neighbors import KDTree\n",
    "from skimage.morphology import watershed\n",
    "from skimage.morphology import square, dilation\n",
    "import pandas as pd\n",
    "import math\n",
    "import matplotlib.pyplot as plt\n",
    "from tqdm import tqdm_notebook\n",
    "from lgb_features import *"
   ]
  },
  {
   "cell_type": "code",
   "execution_count": 2,
   "metadata": {},
   "outputs": [],
   "source": [
    "def get_inputs(imageid, pre_df, seg_df = None):\n",
    "    inputs = []    \n",
    "    \n",
    "    pred_msk = get_mask(imageid, pre_df)\n",
    "    y_pred = measure.label(pred_msk, neighbors=8, background=0)\n",
    "    ship_pro = pre_df.loc[imageid, 'p_ship'].mean()\n",
    "    \n",
    "    props = measure.regionprops(y_pred)\n",
    "    pred_labels = measure.label(y_pred, neighbors=8, background=0)\n",
    "    pred_props = measure.regionprops(y_pred)\n",
    "    init_count = len(pred_props)\n",
    "\n",
    "    coords = [pr.centroid for pr in pred_props]\n",
    "#     print('len(coords)', len(coords))\n",
    "    if len(coords) > 0:\n",
    "#         print('make neighbors')\n",
    "        t = KDTree(coords)\n",
    "        neighbors100 = t.query_radius(coords, r=50)\n",
    "        neighbors200 = t.query_radius(coords, r=100)\n",
    "        neighbors300 = t.query_radius(coords, r=150)\n",
    "        neighbors400 = t.query_radius(coords, r=200)\n",
    "        areas = np.asarray([pr.area for pr in props])\n",
    "        med_area = np.median(areas)\n",
    "        max_area = np.max(areas)\n",
    "    \n",
    "    for i in range(len(pred_props)):\n",
    "        cur_prop = pred_props[i]\n",
    "        is_on_border = 1 * ((cur_prop.bbox[0] <= 1) | (cur_prop.bbox[1] <= 1) | (cur_prop.bbox[2] >= y_pred.shape[0] - 1) | (cur_prop.bbox[3] >= y_pred.shape[1] - 1))\n",
    "  \n",
    "        msk_reg = pred_labels[cur_prop.bbox[0]:cur_prop.bbox[2], cur_prop.bbox[1]:cur_prop.bbox[3]] == i+1\n",
    "        pred_reg = y_pred[cur_prop.bbox[0]:cur_prop.bbox[2], cur_prop.bbox[1]:cur_prop.bbox[3]]\n",
    "        \n",
    "        contours = cv2.findContours((msk_reg * 255).astype(dtype=np.uint8), cv2.RETR_TREE, cv2.CHAIN_APPROX_SIMPLE)\n",
    "        if len(contours[1]) > 0:\n",
    "            cnt = contours[1][0]\n",
    "            min_area_rect = cv2.minAreaRect(cnt)\n",
    "        \n",
    "        inp = []\n",
    "        inp.append(ship_pro)\n",
    "        inp.append(cur_prop.area)\n",
    "        inp.append(cur_prop.area / med_area)\n",
    "        inp.append(cur_prop.area / max_area)\n",
    "        if len(contours[1]) > 0:\n",
    "            inp.append(cv2.isContourConvex(cnt) * 1.0)\n",
    "            inp.append(min(min_area_rect[1]))\n",
    "            inp.append(max(min_area_rect[1]))\n",
    "            if max(min_area_rect[1]) > 0:\n",
    "                inp.append(min(min_area_rect[1]) / max(min_area_rect[1]))\n",
    "            else:\n",
    "                inp.append(0)\n",
    "            inp.append(min_area_rect[2])\n",
    "        else:\n",
    "            inp.append(0)\n",
    "            inp.append(0)\n",
    "            inp.append(0)\n",
    "            inp.append(0)\n",
    "            inp.append(0)\n",
    "        inp.append(cur_prop.convex_area)\n",
    "        inp.append(cur_prop.solidity)\n",
    "        inp.append(cur_prop.eccentricity)\n",
    "        inp.append(cur_prop.extent)\n",
    "        inp.append(cur_prop.perimeter)\n",
    "        inp.append(cur_prop.major_axis_length)\n",
    "        inp.append(cur_prop.minor_axis_length)\n",
    "        if(cur_prop.minor_axis_length > 0):\n",
    "            inp.append(cur_prop.minor_axis_length / cur_prop.major_axis_length)\n",
    "        else:\n",
    "            inp.append(0)\n",
    "            \n",
    "        inp.append(cur_prop.euler_number)\n",
    "        inp.append(cur_prop.equivalent_diameter)\n",
    "        inp.append(cur_prop.perimeter ** 2 / (4 * cur_prop.area * math.pi))\n",
    "        \n",
    "        inp.append(is_on_border)        \n",
    "        inp.append(init_count)\n",
    "        inp.append(med_area)\n",
    "        inp.append(cur_prop.area / med_area)\n",
    "\n",
    "        inp = extend_neighbor_features(inp, cur_prop, pred_props, neighbors100[i], med_area, max_area)\n",
    "        inp = extend_neighbor_features(inp, cur_prop, pred_props, neighbors200[i], med_area, max_area)\n",
    "        inp = extend_neighbor_features(inp, cur_prop, pred_props, neighbors300[i], med_area, max_area)\n",
    "        inp = extend_neighbor_features(inp, cur_prop, pred_props, neighbors400[i], med_area, max_area)\n",
    "        \n",
    "        \n",
    "        inputs.append(np.asarray(inp))\n",
    "        \n",
    "    inputs = np.asarray(inputs)\n",
    "    if seg_df is None:\n",
    "        return inputs, pred_labels\n",
    "    else:\n",
    "        outputs = []\n",
    "        truth_labels = get_mask(imageid, seg_df)\n",
    "        truth_labels = measure.label(truth_labels, neighbors=8, background=0)\n",
    "        truth_props = measure.regionprops(truth_labels)\n",
    "        \n",
    "        m = np.zeros((len(pred_props), len(truth_props)))\n",
    "        \n",
    "        for x in range(pred_labels.shape[1]):\n",
    "            for y in range(pred_labels.shape[0]):\n",
    "                if pred_labels[y, x] > 0 and truth_labels[y, x] > 0:\n",
    "                    m[pred_labels[y, x]-1, truth_labels[y, x]-1] += 1\n",
    "                    \n",
    "        truth_used = set([])\n",
    "        for i in range(len(pred_props)): \n",
    "            max_iou = 0\n",
    "            for j in range(len(truth_props)):\n",
    "                if m[i, j] > 0:\n",
    "                    iou = m[i, j] / (pred_props[i].area + truth_props[j].area - m[i, j])\n",
    "                    if iou > max_iou:\n",
    "                        max_iou = iou\n",
    "                    if iou > 0.5:\n",
    "                        truth_used.add(j)\n",
    "            if max_iou <= 0.5:\n",
    "                max_iou = 0\n",
    "            outputs.append(max_iou)\n",
    "            \n",
    "        outputs = np.asarray(outputs)\n",
    "        fn = len(truth_props) - len(truth_used)\n",
    "        \n",
    "        return inputs, pred_labels, outputs, fn"
   ]
  },
  {
   "cell_type": "code",
   "execution_count": 3,
   "metadata": {},
   "outputs": [],
   "source": [
    "def decode_mask(mask, shape=(768, 768)):\n",
    "    pixels = mask.T.flatten()\n",
    "    pixels = np.concatenate([[0], pixels, [0]])\n",
    "    runs = np.where(pixels[1:] != pixels[:-1])[0] + 1\n",
    "    runs[1::2] -= runs[::2]\n",
    "    return ' '.join(str(x) for x in runs)\n",
    "\n",
    "def split_label(label):\n",
    "    n_objs = np.max(label)\n",
    "    result = []\n",
    "    for i in range(n_objs):\n",
    "        obj = (label == i + 1).astype(int)\n",
    "        result.append(obj)\n",
    "    return result\n",
    "\n",
    "def enc_test(yp, name, ship_list_dict):\n",
    "    masks = split_label(yp)\n",
    "    if(len(masks) == 0): \n",
    "        ship_list_dict.append({'ImageId':name,'EncodedPixels':np.nan})\n",
    "    for mask in masks:\n",
    "        mask = (cv2.resize(mask.astype(np.float), (768,768)) > 0.5)\n",
    "        ship_list_dict.append({'ImageId':name,'EncodedPixels':decode_mask(mask)})\n",
    "        \n",
    "def lgb_filter(testid, pre_ships_det, threshold = 0.0, plot = False):\n",
    "    tmp_in, tmp_label = get_inputs(testid, pre_ships_det)\n",
    "    ship_list_dict = []\n",
    "    rle = enc_test(tmp_label, testid, ship_list_dict)\n",
    "\n",
    "    res_tot = None\n",
    "    for bst in models:\n",
    "        res = bst.predict(tmp_in)\n",
    "        if res_tot is None:\n",
    "            res_tot = res\n",
    "        else:\n",
    "            res_tot += res\n",
    "\n",
    "    scores = res_tot / len(model_paths)\n",
    "    final_dict = []\n",
    "\n",
    "    show_label = tmp_label.copy()\n",
    "    for idx, score in enumerate(scores):\n",
    "        if score > threshold:\n",
    "            if plot:\n",
    "                print(idx, score)\n",
    "            tmp_dic = ship_list_dict[idx]\n",
    "            tmp_dic['score'] = score\n",
    "            final_dict.append(tmp_dic)\n",
    "        else:\n",
    "            show_label[show_label == (idx + 1)] = 0\n",
    "\n",
    "    if plot:\n",
    "        fig, axis = plt.subplots(1, 3, figsize=[15,10])\n",
    "        axis[0].imshow(cv2.imread('../input/test_v2/{}'.format(testid)))\n",
    "        axis[1].imshow(tmp_label)\n",
    "        axis[2].imshow(show_label)\n",
    "        \n",
    "    if len(final_dict) == 0:\n",
    "        final_dict.append({'ImageId':testid,'EncodedPixels':np.nan, 'score':0})\n",
    "        \n",
    "    return final_dict"
   ]
  },
  {
   "cell_type": "code",
   "execution_count": 4,
   "metadata": {},
   "outputs": [],
   "source": [
    "# pre_df = pd.read_csv('../result/fastai_resunet768_labest_all.csv',index_col='ImageId')\n",
    "pre_df = pd.read_csv('../result/fastai_resunet768_labest_2.csv',index_col='ImageId')\n",
    "pre_df.fillna('', inplace = True)"
   ]
  },
  {
   "cell_type": "code",
   "execution_count": 5,
   "metadata": {},
   "outputs": [],
   "source": [
    "pre_none = pre_df.loc[pre_df.EncodedPixels.str.len() == 0]\n",
    "pre_ships = pre_df.loc[pre_df.EncodedPixels.str.len() > 0]"
   ]
  },
  {
   "cell_type": "code",
   "execution_count": 6,
   "metadata": {},
   "outputs": [],
   "source": [
    "ship_detect = pd.read_csv('../result/ship_detection.csv')"
   ]
  },
  {
   "cell_type": "code",
   "execution_count": 7,
   "metadata": {},
   "outputs": [],
   "source": [
    "ship_detect.rename({'id':'ImageId'}, axis=1, inplace=True)"
   ]
  },
  {
   "cell_type": "code",
   "execution_count": 8,
   "metadata": {},
   "outputs": [
    {
     "data": {
      "text/plain": [
       "(6216, 1)"
      ]
     },
     "execution_count": 8,
     "metadata": {},
     "output_type": "execute_result"
    }
   ],
   "source": [
    "pre_ships.shape"
   ]
  },
  {
   "cell_type": "code",
   "execution_count": 9,
   "metadata": {},
   "outputs": [],
   "source": [
    "pre_ships_det = pd.merge(pre_ships, ship_detect, on='ImageId', how='left')"
   ]
  },
  {
   "cell_type": "code",
   "execution_count": 10,
   "metadata": {},
   "outputs": [],
   "source": [
    "pre_ships_det.set_index('ImageId', inplace=True)"
   ]
  },
  {
   "cell_type": "code",
   "execution_count": 11,
   "metadata": {},
   "outputs": [],
   "source": [
    "img_ids = pre_ships_det.index"
   ]
  },
  {
   "cell_type": "code",
   "execution_count": 12,
   "metadata": {},
   "outputs": [],
   "source": [
    "import glob\n",
    "\n",
    "model_paths = glob.glob('lgb_models/*.txt')\n",
    "models = []\n",
    "for path in model_paths:\n",
    "    bst = lgb.Booster(model_file=path)\n",
    "    models.append(bst)"
   ]
  },
  {
   "cell_type": "code",
   "execution_count": 13,
   "metadata": {},
   "outputs": [
    {
     "data": {
      "application/vnd.jupyter.widget-view+json": {
       "model_id": "29f3a1272d0e42438447ef04e01abb9e",
       "version_major": 2,
       "version_minor": 0
      },
      "text/plain": [
       "HBox(children=(IntProgress(value=0, max=6216), HTML(value='')))"
      ]
     },
     "metadata": {},
     "output_type": "display_data"
    },
    {
     "name": "stdout",
     "output_type": "stream",
     "text": [
      "\n"
     ]
    }
   ],
   "source": [
    "tot_final_dict = []\n",
    "for imgid in tqdm_notebook(img_ids):\n",
    "    final_dict = lgb_filter(imgid, pre_ships_det, 0.15, False)\n",
    "    tot_final_dict += final_dict"
   ]
  },
  {
   "cell_type": "code",
   "execution_count": 14,
   "metadata": {},
   "outputs": [],
   "source": [
    "tot_ship_df = pd.DataFrame(tot_final_dict)"
   ]
  },
  {
   "cell_type": "code",
   "execution_count": 15,
   "metadata": {},
   "outputs": [],
   "source": [
    "tot_ship_df.drop_duplicates(inplace=True)"
   ]
  },
  {
   "cell_type": "code",
   "execution_count": 16,
   "metadata": {},
   "outputs": [],
   "source": [
    "to_compile = tot_ship_df.copy()\n",
    "to_compile = to_compile[['ImageId', 'EncodedPixels']]\n",
    "\n",
    "# threshold = 0.2\n",
    "# to_compile.loc[to_compile.score < threshold, 'EncodedPixels'] = ''\n",
    "# to_compile.loc[to_compile.score < threshold, 'score'] = 0\n",
    "# to_compile.drop_duplicates(inplace=True)\n",
    "# to_compile = to_compile[['ImageId', 'EncodedPixels']]"
   ]
  },
  {
   "cell_type": "code",
   "execution_count": 17,
   "metadata": {},
   "outputs": [
    {
     "data": {
      "text/html": [
       "<div>\n",
       "<style scoped>\n",
       "    .dataframe tbody tr th:only-of-type {\n",
       "        vertical-align: middle;\n",
       "    }\n",
       "\n",
       "    .dataframe tbody tr th {\n",
       "        vertical-align: top;\n",
       "    }\n",
       "\n",
       "    .dataframe thead th {\n",
       "        text-align: right;\n",
       "    }\n",
       "</style>\n",
       "<table border=\"1\" class=\"dataframe\">\n",
       "  <thead>\n",
       "    <tr style=\"text-align: right;\">\n",
       "      <th></th>\n",
       "      <th>ImageId</th>\n",
       "      <th>EncodedPixels</th>\n",
       "    </tr>\n",
       "  </thead>\n",
       "  <tbody>\n",
       "    <tr>\n",
       "      <th>0</th>\n",
       "      <td>000367c13.jpg</td>\n",
       "      <td>312769 2 313537 4 314305 4 315071 7 315839 6 3...</td>\n",
       "    </tr>\n",
       "    <tr>\n",
       "      <th>1</th>\n",
       "      <td>000367c13.jpg</td>\n",
       "      <td>274371 2 275137 6 275905 7 276673 6 277441 6 2...</td>\n",
       "    </tr>\n",
       "    <tr>\n",
       "      <th>2</th>\n",
       "      <td>000367c13.jpg</td>\n",
       "      <td>282819 6 283586 7 284353 8 285122 7 285889 8 2...</td>\n",
       "    </tr>\n",
       "    <tr>\n",
       "      <th>24</th>\n",
       "      <td>0010551d9.jpg</td>\n",
       "      <td>180731 6 181497 11 182265 12 183032 16 183799 ...</td>\n",
       "    </tr>\n",
       "    <tr>\n",
       "      <th>25</th>\n",
       "      <td>002a943bf.jpg</td>\n",
       "      <td>403967 2 404733 4 405499 6 406264 9 407030 11 ...</td>\n",
       "    </tr>\n",
       "  </tbody>\n",
       "</table>\n",
       "</div>"
      ],
      "text/plain": [
       "          ImageId                                      EncodedPixels\n",
       "0   000367c13.jpg  312769 2 313537 4 314305 4 315071 7 315839 6 3...\n",
       "1   000367c13.jpg  274371 2 275137 6 275905 7 276673 6 277441 6 2...\n",
       "2   000367c13.jpg  282819 6 283586 7 284353 8 285122 7 285889 8 2...\n",
       "24  0010551d9.jpg  180731 6 181497 11 182265 12 183032 16 183799 ...\n",
       "25  002a943bf.jpg  403967 2 404733 4 405499 6 406264 9 407030 11 ..."
      ]
     },
     "execution_count": 17,
     "metadata": {},
     "output_type": "execute_result"
    }
   ],
   "source": [
    "to_compile.head()"
   ]
  },
  {
   "cell_type": "code",
   "execution_count": 18,
   "metadata": {},
   "outputs": [
    {
     "data": {
      "text/html": [
       "<div>\n",
       "<style scoped>\n",
       "    .dataframe tbody tr th:only-of-type {\n",
       "        vertical-align: middle;\n",
       "    }\n",
       "\n",
       "    .dataframe tbody tr th {\n",
       "        vertical-align: top;\n",
       "    }\n",
       "\n",
       "    .dataframe thead th {\n",
       "        text-align: right;\n",
       "    }\n",
       "</style>\n",
       "<table border=\"1\" class=\"dataframe\">\n",
       "  <thead>\n",
       "    <tr style=\"text-align: right;\">\n",
       "      <th></th>\n",
       "      <th>ImageId</th>\n",
       "      <th>EncodedPixels</th>\n",
       "    </tr>\n",
       "  </thead>\n",
       "  <tbody>\n",
       "    <tr>\n",
       "      <th>0</th>\n",
       "      <td>00002bd58.jpg</td>\n",
       "      <td></td>\n",
       "    </tr>\n",
       "    <tr>\n",
       "      <th>1</th>\n",
       "      <td>00015efb6.jpg</td>\n",
       "      <td></td>\n",
       "    </tr>\n",
       "    <tr>\n",
       "      <th>2</th>\n",
       "      <td>00023d5fc.jpg</td>\n",
       "      <td></td>\n",
       "    </tr>\n",
       "    <tr>\n",
       "      <th>3</th>\n",
       "      <td>0008ca6e9.jpg</td>\n",
       "      <td></td>\n",
       "    </tr>\n",
       "    <tr>\n",
       "      <th>4</th>\n",
       "      <td>000a4635f.jpg</td>\n",
       "      <td></td>\n",
       "    </tr>\n",
       "  </tbody>\n",
       "</table>\n",
       "</div>"
      ],
      "text/plain": [
       "         ImageId EncodedPixels\n",
       "0  00002bd58.jpg              \n",
       "1  00015efb6.jpg              \n",
       "2  00023d5fc.jpg              \n",
       "3  0008ca6e9.jpg              \n",
       "4  000a4635f.jpg              "
      ]
     },
     "execution_count": 18,
     "metadata": {},
     "output_type": "execute_result"
    }
   ],
   "source": [
    "pre_none.reset_index(inplace=True)\n",
    "pre_none.head()"
   ]
  },
  {
   "cell_type": "code",
   "execution_count": 19,
   "metadata": {},
   "outputs": [],
   "source": [
    "df_sub = pd.concat([pre_none, to_compile])"
   ]
  },
  {
   "cell_type": "code",
   "execution_count": 20,
   "metadata": {},
   "outputs": [
    {
     "name": "stdout",
     "output_type": "stream",
     "text": [
      "save result\n",
      "upload result\n",
      "cmd: kaggle competitions submit -c airbus-ship-detection -f ../result/lgb_filter_deeper.csv.7z -m \"submit\"\n"
     ]
    }
   ],
   "source": [
    "import kaggle_util\n",
    "kaggle_util.save_result(df_sub, '../result/lgb_filter_deeper.csv', \n",
    "                        competition = 'airbus-ship-detection', \n",
    "                        send = True, index = False)"
   ]
  },
  {
   "cell_type": "code",
   "execution_count": null,
   "metadata": {},
   "outputs": [],
   "source": []
  }
 ],
 "metadata": {
  "kernelspec": {
   "display_name": "Python 3",
   "language": "python",
   "name": "python3"
  },
  "language_info": {
   "codemirror_mode": {
    "name": "ipython",
    "version": 3
   },
   "file_extension": ".py",
   "mimetype": "text/x-python",
   "name": "python",
   "nbconvert_exporter": "python",
   "pygments_lexer": "ipython3",
   "version": "3.6.5"
  }
 },
 "nbformat": 4,
 "nbformat_minor": 2
}
