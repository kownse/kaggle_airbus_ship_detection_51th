{
 "cells": [
  {
   "cell_type": "code",
   "execution_count": 1,
   "metadata": {},
   "outputs": [],
   "source": [
    "import pandas as pd\n",
    "import numpy as np\n",
    "import cv2\n",
    "from skimage import measure\n",
    "import matplotlib.pyplot as plt\n",
    "from tqdm import tqdm_notebook\n",
    "%matplotlib inline"
   ]
  },
  {
   "cell_type": "code",
   "execution_count": 2,
   "metadata": {},
   "outputs": [
    {
     "data": {
      "text/plain": [
       "4264"
      ]
     },
     "execution_count": 2,
     "metadata": {},
     "output_type": "execute_result"
    }
   ],
   "source": [
    "sub = pd.read_csv('../result/lgb_filter_olddata_deep_15.csv')\n",
    "sub.set_index('ImageId', inplace=True)\n",
    "sub.fillna('',inplace=True)\n",
    "noship = sub.loc[sub.EncodedPixels.str.len() == 0]\n",
    "ships = sub.loc[sub.EncodedPixels.str.len() > 0]\n",
    "len(ships)"
   ]
  },
  {
   "cell_type": "code",
   "execution_count": 3,
   "metadata": {},
   "outputs": [],
   "source": [
    "def get_mask(img_id, df):\n",
    "    shape = (768,768)\n",
    "    img = np.zeros(shape[0]*shape[1], dtype=np.uint8)\n",
    "    masks = df.loc[img_id]['EncodedPixels']\n",
    "    if(type(masks) == float): return img.reshape(shape)\n",
    "    if(type(masks) == str): masks = [masks]\n",
    "    for mask in masks:\n",
    "        s = mask.split()\n",
    "        for i in range(len(s)//2):\n",
    "            start = int(s[2*i]) - 1\n",
    "            length = int(s[2*i+1])\n",
    "            img[start:start+length] = 1\n",
    "    return img.reshape(shape).T\n",
    "\n",
    "def get_mask_single(df, idx):\n",
    "    shape = (768,768)\n",
    "    img = np.zeros(shape[0]*shape[1], dtype=np.uint8)\n",
    "    mask = df.iloc[idx,0]\n",
    "    if(type(mask) == float): return img.reshape(shape)\n",
    "    \n",
    "    s = mask.split()\n",
    "    for i in range(len(s)//2):\n",
    "        start = int(s[2*i]) - 1\n",
    "        length = int(s[2*i+1])\n",
    "        img[start:start+length] = 1\n",
    "    return img.reshape(shape).T"
   ]
  },
  {
   "cell_type": "code",
   "execution_count": 4,
   "metadata": {},
   "outputs": [],
   "source": [
    "def get_rectangle(mask, plot = True, shape = (768, 768)):\n",
    "\n",
    "    ret,thresh = cv2.threshold(mask,0,1,0)\n",
    "    img, contours, hier = cv2.findContours(thresh, 1, 2)\n",
    "    cnt = max(contours, key=len)\n",
    "    rect = cv2.minAreaRect(cnt)\n",
    "    box = cv2.boxPoints(rect)\n",
    "    box = np.int0(box)\n",
    "\n",
    "#     draw = np.stack((thresh*255,)*3, axis=-1).astype(np.uint8)\n",
    "    empty = np.zeros(shape, dtype=np.uint8)\n",
    "    # res = cv2.drawContours(draw,[box],0,(0,0,255),-1)\n",
    "    res = cv2.drawContours(empty,[box],0,1,-1)\n",
    "    if plot:\n",
    "        fig,axis = plt.subplots(1,2)\n",
    "        axis[0].imshow(mask)\n",
    "        axis[1].imshow(res)\n",
    "#         print(mask.shape)\n",
    "    \n",
    "    return res\n",
    "\n",
    "def decode_mask(mask, shape=(768, 768)):\n",
    "    pixels = mask.T.flatten()\n",
    "    pixels = np.concatenate([[0], pixels, [0]])\n",
    "    runs = np.where(pixels[1:] != pixels[:-1])[0] + 1\n",
    "    runs[1::2] -= runs[::2]\n",
    "    return ' '.join(str(x) for x in runs)"
   ]
  },
  {
   "cell_type": "code",
   "execution_count": 5,
   "metadata": {},
   "outputs": [],
   "source": [
    "def rectanglize(df, idx, area_threshold = 3000, plot=False):\n",
    "    elr = df.iloc[idx,0]\n",
    "    #print(elr)\n",
    "    mask = get_mask_single(ships, idx)\n",
    "    area = mask.sum()\n",
    "    if area > area_threshold:\n",
    "        res = get_rectangle(mask, plot=plot)\n",
    "        res = decode_mask(res)\n",
    "    else:\n",
    "        res = elr\n",
    "    return res, area\n",
    "    "
   ]
  },
  {
   "cell_type": "code",
   "execution_count": 6,
   "metadata": {
    "scrolled": true
   },
   "outputs": [
    {
     "data": {
      "application/vnd.jupyter.widget-view+json": {
       "model_id": "9a05f7ae28914f69a12c4e80b4b99ce1",
       "version_major": 2,
       "version_minor": 0
      },
      "text/plain": [
       "HBox(children=(IntProgress(value=0, max=4264), HTML(value='')))"
      ]
     },
     "metadata": {},
     "output_type": "display_data"
    },
    {
     "name": "stdout",
     "output_type": "stream",
     "text": [
      "\n"
     ]
    }
   ],
   "source": [
    "areas = []\n",
    "ship_dict = []\n",
    "for idx in tqdm_notebook(range(len(ships))):\n",
    "    rect, area = rectanglize(ships, idx, 3000, plot=False)\n",
    "#     print(rect)\n",
    "    ship_dict.append({'ImageId':ships.index[idx], 'EncodedPixels': rect})\n",
    "    areas.append(area)"
   ]
  },
  {
   "cell_type": "code",
   "execution_count": 7,
   "metadata": {},
   "outputs": [],
   "source": [
    "rect_ships = pd.DataFrame(ship_dict)"
   ]
  },
  {
   "cell_type": "code",
   "execution_count": 8,
   "metadata": {},
   "outputs": [
    {
     "name": "stderr",
     "output_type": "stream",
     "text": [
      "/home/kownse/anaconda3/lib/python3.6/site-packages/ipykernel_launcher.py:1: FutureWarning: Sorting because non-concatenation axis is not aligned. A future version\n",
      "of pandas will change to not sort by default.\n",
      "\n",
      "To accept the future behavior, pass 'sort=False'.\n",
      "\n",
      "To retain the current behavior and silence the warning, pass 'sort=True'.\n",
      "\n",
      "  \"\"\"Entry point for launching an IPython kernel.\n"
     ]
    }
   ],
   "source": [
    "to_sub = pd.concat([rect_ships, noship.reset_index()])"
   ]
  },
  {
   "cell_type": "code",
   "execution_count": 9,
   "metadata": {},
   "outputs": [
    {
     "name": "stdout",
     "output_type": "stream",
     "text": [
      "save result\n",
      "upload result\n",
      "cmd: kaggle competitions submit -c airbus-ship-detection -f ../result/resunet_rectangle_up3000.csv.7z -m \"submit\"\n"
     ]
    }
   ],
   "source": [
    "import kaggle_util\n",
    "kaggle_util.save_result(to_sub, '../result/resunet_rectangle_up3000.csv', \n",
    "                        competition = 'airbus-ship-detection', \n",
    "                        send = True, index = False)"
   ]
  },
  {
   "cell_type": "code",
   "execution_count": 10,
   "metadata": {},
   "outputs": [
    {
     "data": {
      "text/html": [
       "<div>\n",
       "<style scoped>\n",
       "    .dataframe tbody tr th:only-of-type {\n",
       "        vertical-align: middle;\n",
       "    }\n",
       "\n",
       "    .dataframe tbody tr th {\n",
       "        vertical-align: top;\n",
       "    }\n",
       "\n",
       "    .dataframe thead th {\n",
       "        text-align: right;\n",
       "    }\n",
       "</style>\n",
       "<table border=\"1\" class=\"dataframe\">\n",
       "  <thead>\n",
       "    <tr style=\"text-align: right;\">\n",
       "      <th></th>\n",
       "      <th>EncodedPixels</th>\n",
       "      <th>ImageId</th>\n",
       "    </tr>\n",
       "  </thead>\n",
       "  <tbody>\n",
       "    <tr>\n",
       "      <th>0</th>\n",
       "      <td>311233 2 311998 7 312766 2 312769 4 313533 9 3...</td>\n",
       "      <td>000367c13.jpg</td>\n",
       "    </tr>\n",
       "    <tr>\n",
       "      <th>1</th>\n",
       "      <td>176890 2 177658 4 178425 7 179193 9 179960 12 ...</td>\n",
       "      <td>0010551d9.jpg</td>\n",
       "    </tr>\n",
       "    <tr>\n",
       "      <th>2</th>\n",
       "      <td>403198 2 403963 5 404729 8 405494 11 406259 14...</td>\n",
       "      <td>002a943bf.jpg</td>\n",
       "    </tr>\n",
       "    <tr>\n",
       "      <th>3</th>\n",
       "      <td>441689 3 442455 7 443222 9 443989 10 444757 11...</td>\n",
       "      <td>0035268d9.jpg</td>\n",
       "    </tr>\n",
       "    <tr>\n",
       "      <th>4</th>\n",
       "      <td>534890 3 535658 3 536426 4 537193 5 537962 4 5...</td>\n",
       "      <td>0035268d9.jpg</td>\n",
       "    </tr>\n",
       "  </tbody>\n",
       "</table>\n",
       "</div>"
      ],
      "text/plain": [
       "                                       EncodedPixels        ImageId\n",
       "0  311233 2 311998 7 312766 2 312769 4 313533 9 3...  000367c13.jpg\n",
       "1  176890 2 177658 4 178425 7 179193 9 179960 12 ...  0010551d9.jpg\n",
       "2  403198 2 403963 5 404729 8 405494 11 406259 14...  002a943bf.jpg\n",
       "3  441689 3 442455 7 443222 9 443989 10 444757 11...  0035268d9.jpg\n",
       "4  534890 3 535658 3 536426 4 537193 5 537962 4 5...  0035268d9.jpg"
      ]
     },
     "execution_count": 10,
     "metadata": {},
     "output_type": "execute_result"
    }
   ],
   "source": [
    "to_sub.head()"
   ]
  },
  {
   "cell_type": "code",
   "execution_count": null,
   "metadata": {},
   "outputs": [],
   "source": []
  }
 ],
 "metadata": {
  "kernelspec": {
   "display_name": "Python 3",
   "language": "python",
   "name": "python3"
  },
  "language_info": {
   "codemirror_mode": {
    "name": "ipython",
    "version": 3
   },
   "file_extension": ".py",
   "mimetype": "text/x-python",
   "name": "python",
   "nbconvert_exporter": "python",
   "pygments_lexer": "ipython3",
   "version": "3.6.5"
  }
 },
 "nbformat": 4,
 "nbformat_minor": 2
}
