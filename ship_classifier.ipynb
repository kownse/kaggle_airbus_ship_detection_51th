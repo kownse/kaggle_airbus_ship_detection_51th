{
 "cells": [
  {
   "cell_type": "code",
   "execution_count": 1,
   "metadata": {},
   "outputs": [],
   "source": [
    "import os\n",
    "import numpy as np # linear algebra\n",
    "import pandas as pd # data processing, CSV file I/O (e.g. pd.read_csv)\n",
    "from skimage.io import imread\n",
    "import matplotlib.pyplot as plt\n",
    "from skimage.segmentation import mark_boundaries\n",
    "from skimage.util.montage import montage2d as montage\n",
    "\n",
    "from PIL import ImageFile\n",
    "ImageFile.LOAD_TRUNCATED_IMAGES = True\n",
    "\n",
    "GAUSSIAN_NOISE = 0.1\n",
    "UPSAMPLE_MODE = 'SIMPLE'\n",
    "# number of validation images to use\n",
    "# maximum number of training images\n",
    "BASE_MODEL='DenseNet169' # ['VGG16', 'RESNET52', 'InceptionV3', 'Xception', 'DenseNet169', 'DenseNet121']\n",
    "IMG_SIZE = (299, 299) # [(224, 224), (384, 384), (512, 512), (640, 640)]\n",
    "BATCH_SIZE = 128 # [1, 8, 16, 24]\n",
    "DROPOUT = 0.5\n",
    "DENSE_COUNT = 128\n",
    "LEARN_RATE = 1e-4\n",
    "RGB_FLIP = 1 # should rgb be flipped when rendering images\n",
    "\n",
    "montage_rgb = lambda x: np.stack([montage(x[:, :, :, i]) for i in range(x.shape[3])], -1)\n",
    "ship_dir = '../input'\n",
    "train_image_dir = os.path.join(ship_dir, 'train')\n",
    "test_image_dir = os.path.join(ship_dir, 'test')\n",
    "val_image_dir = os.path.join(ship_dir, 'val')\n",
    "import gc; gc.enable() # memory is tight"
   ]
  },
  {
   "cell_type": "code",
   "execution_count": 2,
   "metadata": {
    "scrolled": true
   },
   "outputs": [],
   "source": [
    "def prepare_train_set():\n",
    "\n",
    "    masks = pd.read_csv(os.path.join('../input/',\n",
    "                                     'train_ship_segmentations.csv.zip'))\n",
    "    print(masks.shape[0], 'masks found')\n",
    "    print(masks['ImageId'].value_counts().shape[0])\n",
    "    masks['path'] = masks['ImageId'].map(lambda x: os.path.join(train_image_dir, x))\n",
    "\n",
    "    masks['ships'] = masks['EncodedPixels'].map(lambda c_row: 1 if isinstance(c_row, str) else 0)\n",
    "    unique_img_ids = masks.groupby('ImageId').agg({'ships': 'sum'}).reset_index()\n",
    "    unique_img_ids['has_ship'] = unique_img_ids['ships'].map(lambda x: 1.0 if x>0 else 0.0)\n",
    "    unique_img_ids['has_ship_vec'] = unique_img_ids['has_ship'].map(lambda x: [x])\n",
    "    masks.drop(['ships'], axis=1, inplace=True)\n",
    "    \n",
    "    val_imgs = os.listdir(val_image_dir)\n",
    "    val_idx = np.in1d(unique_img_ids.ImageId, val_imgs)\n",
    "    val_df = unique_img_ids.loc[val_idx]\n",
    "    train_df = unique_img_ids[np.logical_not(val_idx)]\n",
    "    val_df = pd.merge(masks, val_df, on='ImageId', how='inner')\n",
    "    train_df = pd.merge(masks, train_df, on='ImageId', how='inner')\n",
    "    \n",
    "    VALID_IMG_COUNT = len(val_df)\n",
    "    val_df['path'] = val_df['ImageId'].map(lambda x: os.path.join(val_image_dir, x))\n",
    "    \n",
    "    return train_df, val_df"
   ]
  },
  {
   "cell_type": "markdown",
   "metadata": {},
   "source": [
    "## Model"
   ]
  },
  {
   "cell_type": "code",
   "execution_count": 9,
   "metadata": {},
   "outputs": [],
   "source": [
    "from keras.preprocessing.image import ImageDataGenerator\n",
    "if BASE_MODEL=='VGG16':\n",
    "    from keras.applications.vgg16 import VGG16 as PTModel, preprocess_input\n",
    "elif BASE_MODEL=='RESNET52':\n",
    "    from keras.applications.resnet50 import ResNet50 as PTModel, preprocess_input\n",
    "elif BASE_MODEL=='InceptionV3':\n",
    "    from keras.applications.inception_v3 import InceptionV3 as PTModel, preprocess_input\n",
    "elif BASE_MODEL=='Xception':\n",
    "    from keras.applications.xception import Xception as PTModel, preprocess_input\n",
    "elif BASE_MODEL=='DenseNet169': \n",
    "    from keras.applications.densenet import DenseNet169 as PTModel, preprocess_input\n",
    "elif BASE_MODEL=='DenseNet121':\n",
    "    from keras.applications.densenet import DenseNet121 as PTModel, preprocess_input\n",
    "else:\n",
    "    raise ValueError('Unknown model: {}'.format(BASE_MODEL))"
   ]
  },
  {
   "cell_type": "code",
   "execution_count": 10,
   "metadata": {},
   "outputs": [],
   "source": [
    "from keras.preprocessing.image import ImageDataGenerator\n",
    "dg_args = dict(featurewise_center = False, \n",
    "                  samplewise_center = False,\n",
    "                  rotation_range = 45, \n",
    "                  width_shift_range = 0.1, \n",
    "                  height_shift_range = 0.1, \n",
    "                  shear_range = 0.01,\n",
    "                  zoom_range = [0.9, 1.25],  \n",
    "                  brightness_range = [0.5, 1.5],\n",
    "                  horizontal_flip = True, \n",
    "                  vertical_flip = True,\n",
    "                  fill_mode = 'reflect',\n",
    "                   data_format = 'channels_last',\n",
    "              preprocessing_function = preprocess_input)\n",
    "valid_args = dict(fill_mode = 'reflect',\n",
    "                   data_format = 'channels_last',\n",
    "                  preprocessing_function = preprocess_input)\n",
    "\n",
    "core_idg = ImageDataGenerator(**dg_args)\n",
    "valid_idg = ImageDataGenerator(**valid_args)"
   ]
  },
  {
   "cell_type": "code",
   "execution_count": 11,
   "metadata": {},
   "outputs": [],
   "source": [
    "def flow_from_dataframe(img_data_gen, in_df, path_col, y_col, **dflow_args):\n",
    "    base_dir = os.path.dirname(in_df[path_col].values[0])\n",
    "    print('## Ignore next message from keras, values are replaced anyways')\n",
    "    df_gen = img_data_gen.flow_from_directory(base_dir, \n",
    "                                     class_mode = 'sparse',\n",
    "                                    **dflow_args)\n",
    "    df_gen.filenames = in_df[path_col].values\n",
    "    df_gen.classes = np.stack(in_df[y_col].values)\n",
    "    df_gen.samples = in_df.shape[0]\n",
    "    df_gen.n = in_df.shape[0]\n",
    "    df_gen._set_index_array()\n",
    "    df_gen.directory = '' # since we have the full path\n",
    "    print('Reinserting dataframe: {} images'.format(in_df.shape[0]))\n",
    "    return df_gen"
   ]
  },
  {
   "cell_type": "code",
   "execution_count": 12,
   "metadata": {},
   "outputs": [
    {
     "name": "stdout",
     "output_type": "stream",
     "text": [
      "## Ignore next message from keras, values are replaced anyways\n",
      "Found 0 images belonging to 0 classes.\n",
      "Reinserting dataframe: 129668 images\n",
      "## Ignore next message from keras, values are replaced anyways\n",
      "Found 0 images belonging to 0 classes.\n",
      "Reinserting dataframe: 1362 images\n",
      "(1362, 299, 299, 3) (1362, 1)\n"
     ]
    }
   ],
   "source": [
    "train_gen = flow_from_dataframe(core_idg, train_df, \n",
    "                             path_col = 'path',\n",
    "                            y_col = 'has_ship_vec', \n",
    "                            target_size = IMG_SIZE,\n",
    "                             color_mode = 'rgb',\n",
    "                            batch_size = BATCH_SIZE)\n",
    "\n",
    "# used a fixed dataset for evaluating the algorithm\n",
    "valid_x, valid_y = next(flow_from_dataframe(valid_idg, \n",
    "                               val_df, \n",
    "                             path_col = 'path',\n",
    "                            y_col = 'has_ship_vec', \n",
    "                            target_size = IMG_SIZE,\n",
    "                             color_mode = 'rgb',\n",
    "                            batch_size = VALID_IMG_COUNT)) # one big batch\n",
    "print(valid_x.shape, valid_y.shape)"
   ]
  },
  {
   "cell_type": "code",
   "execution_count": 13,
   "metadata": {},
   "outputs": [
    {
     "name": "stdout",
     "output_type": "stream",
     "text": [
      "x (128, 299, 299, 3) float32 -2.117904 2.64\n",
      "y (128, 1) float64 0.0 1.0\n"
     ]
    }
   ],
   "source": [
    "t_x, t_y = next(train_gen)\n",
    "print('x', t_x.shape, t_x.dtype, t_x.min(), t_x.max())\n",
    "print('y', t_y.shape, t_y.dtype, t_y.min(), t_y.max())"
   ]
  },
  {
   "cell_type": "code",
   "execution_count": 14,
   "metadata": {},
   "outputs": [],
   "source": [
    "def get_model():\n",
    "\n",
    "    base_pretrained_model = PTModel(input_shape =  t_x.shape[1:], \n",
    "                                  include_top = False, weights = 'imagenet')\n",
    "    base_pretrained_model.trainable = False\n",
    "    \n",
    "    from keras import models, layers\n",
    "    from keras.optimizers import Adam\n",
    "    img_in = layers.Input(t_x.shape[1:], name='Image_RGB_In')\n",
    "    img_noise = layers.GaussianNoise(GAUSSIAN_NOISE)(img_in)\n",
    "    pt_features = base_pretrained_model(img_noise)\n",
    "    pt_depth = base_pretrained_model.get_output_shape_at(0)[-1]\n",
    "    bn_features = layers.BatchNormalization()(pt_features)\n",
    "    feature_dropout = layers.SpatialDropout2D(DROPOUT)(bn_features)\n",
    "    gmp_dr = layers.GlobalMaxPooling2D()(feature_dropout)\n",
    "    dr_steps = layers.Dropout(DROPOUT)(layers.Dense(DENSE_COUNT, activation = 'relu')(gmp_dr))\n",
    "    out_layer = layers.Dense(1, activation = 'sigmoid')(dr_steps)\n",
    "\n",
    "    ship_model = models.Model(inputs = [img_in], outputs = [out_layer], name = 'full_model')\n",
    "\n",
    "    ship_model.compile(optimizer = Adam(lr=LEARN_RATE), \n",
    "                       loss = 'binary_crossentropy',\n",
    "                       metrics = ['binary_accuracy'])\n",
    "    \n",
    "    return ship_model"
   ]
  },
  {
   "cell_type": "code",
   "execution_count": 15,
   "metadata": {},
   "outputs": [],
   "source": [
    "ship_model = get_model()"
   ]
  },
  {
   "cell_type": "code",
   "execution_count": 16,
   "metadata": {},
   "outputs": [],
   "source": [
    "def train():\n",
    "    from keras.callbacks import ModelCheckpoint, LearningRateScheduler, EarlyStopping, ReduceLROnPlateau, TensorBoard\n",
    "    weight_path=\"logs/boat_detecotr/{}_{}.best.hdf5\".format('boat_detector', BASE_MODEL)\n",
    "\n",
    "    checkpoint = ModelCheckpoint(weight_path, monitor='val_loss', verbose=1, \n",
    "                                 save_best_only=True, mode='min', save_weights_only = True)\n",
    "\n",
    "    reduceLROnPlat = ReduceLROnPlateau(monitor='val_loss', factor=0.8, patience=2, verbose=1, mode='auto', epsilon=0.0001, cooldown=5, min_lr=0.0001)\n",
    "    early = EarlyStopping(monitor=\"val_loss\", \n",
    "                          mode=\"min\", \n",
    "                          patience=5) # probably needs to be more patient, but kaggle time is limited\n",
    "    board = TensorBoard(log_dir='logs/boat_detecotr/{}'.format(BASE_MODEL),\n",
    "                        histogram_freq=0, \n",
    "                        write_graph=True, write_images=False)\n",
    "    callbacks_list = [checkpoint, early, reduceLROnPlat, board]\n",
    "    \n",
    "    train_gen.batch_size = BATCH_SIZE\n",
    "    ship_model.fit_generator(train_gen, \n",
    "                          validation_data = (valid_x, valid_y), \n",
    "                          epochs = 300, \n",
    "                          callbacks = callbacks_list,\n",
    "                          workers = 5,\n",
    "                          max_queue_size=100,\n",
    "                          #steps_per_epoch = round(50000 / BATCH_SIZE),\n",
    "                          #validation_steps = round(VALID_IMG_COUNT / BATCH_SIZE),\n",
    "                          use_multiprocessing=True)\n",
    "    \n",
    "    ship_model.load_weights(weight_path)\n",
    "    ship_model.save('full_ship_model.h5')\n",
    "    return ship_model"
   ]
  },
  {
   "cell_type": "code",
   "execution_count": 17,
   "metadata": {},
   "outputs": [],
   "source": [
    "def load_weights(ship_model):\n",
    "    weight_path=\"logs/boat_detecotr/{}_{}.best.hdf5\".format('boat_detector', BASE_MODEL)\n",
    "    ship_model.load_weights(weight_path)\n",
    "    return ship_model"
   ]
  },
  {
   "cell_type": "code",
   "execution_count": 18,
   "metadata": {},
   "outputs": [],
   "source": [
    "ship_model = load_weights(ship_model)"
   ]
  },
  {
   "cell_type": "code",
   "execution_count": 8,
   "metadata": {},
   "outputs": [
    {
     "name": "stdout",
     "output_type": "stream",
     "text": [
      "88500 test images found\n"
     ]
    }
   ],
   "source": [
    "test_paths = os.listdir(test_image_dir)\n",
    "print(len(test_paths), 'test images found')\n",
    "submission_df = pd.read_csv('../input/sample_submission.csv.zip')\n",
    "submission_df['path'] = submission_df['ImageId'].map(lambda x: os.path.join(test_image_dir, x))"
   ]
  },
  {
   "cell_type": "code",
   "execution_count": 25,
   "metadata": {},
   "outputs": [
    {
     "name": "stdout",
     "output_type": "stream",
     "text": [
      "## Ignore next message from keras, values are replaced anyways\n",
      "Found 0 images belonging to 0 classes.\n",
      "Reinserting dataframe: 88486 images\n"
     ]
    }
   ],
   "source": [
    "BATCH_SIZE = BATCH_SIZE*4\n",
    "test_gen = flow_from_dataframe(valid_idg, \n",
    "                               submission_df, \n",
    "                             path_col = 'path',\n",
    "                            y_col = 'ImageId', \n",
    "                            target_size = IMG_SIZE,\n",
    "                             color_mode = 'rgb',\n",
    "                            batch_size = BATCH_SIZE, \n",
    "                              shuffle = False)"
   ]
  },
  {
   "cell_type": "code",
   "execution_count": 27,
   "metadata": {},
   "outputs": [
    {
     "data": {
      "application/vnd.jupyter.widget-view+json": {
       "model_id": "b7587393c71147f7bfc8ed31a1140ee2",
       "version_major": 2,
       "version_minor": 0
      },
      "text/plain": [
       "HBox(children=(IntProgress(value=0, max=173), HTML(value='')))"
      ]
     },
     "metadata": {},
     "output_type": "display_data"
    }
   ],
   "source": [
    "from tqdm import tqdm_notebook\n",
    "all_scores = dict()\n",
    "for _, (t_x, t_names) in zip(tqdm_notebook(range(test_gen.n//BATCH_SIZE+1)),\n",
    "                            test_gen):\n",
    "    t_y = ship_model.predict(t_x)[:, 0]\n",
    "    for c_id, c_score in zip(t_names, t_y):\n",
    "        all_scores[c_id] = c_score"
   ]
  },
  {
   "cell_type": "code",
   "execution_count": 28,
   "metadata": {},
   "outputs": [],
   "source": [
    "submission_df['score'] = submission_df['ImageId'].map(lambda x: all_scores.get(x, 0))"
   ]
  },
  {
   "cell_type": "code",
   "execution_count": 3,
   "metadata": {},
   "outputs": [],
   "source": [
    "vote = pd.read_csv('../result/vote.csv')"
   ]
  },
  {
   "cell_type": "code",
   "execution_count": 4,
   "metadata": {},
   "outputs": [],
   "source": [
    "vote.rename({'vote_pick':'pre'},axis=1,inplace=True)"
   ]
  },
  {
   "cell_type": "code",
   "execution_count": 5,
   "metadata": {},
   "outputs": [
    {
     "data": {
      "text/plain": [
       "<matplotlib.axes._subplots.AxesSubplot at 0x7f2072cd1940>"
      ]
     },
     "execution_count": 5,
     "metadata": {},
     "output_type": "execute_result"
    },
    {
     "data": {
      "image/png": "[encoded data removed]",
      "text/plain": [
       "<Figure size 432x288 with 1 Axes>"
      ]
     },
     "metadata": {},
     "output_type": "display_data"
    }
   ],
   "source": [
    "vote.pre.hist()"
   ]
  },
  {
   "cell_type": "code",
   "execution_count": 9,
   "metadata": {},
   "outputs": [],
   "source": [
    "submission_df['score'] = vote.pre"
   ]
  },
  {
   "cell_type": "code",
   "execution_count": 10,
   "metadata": {},
   "outputs": [
    {
     "data": {
      "text/plain": [
       "<matplotlib.axes._subplots.AxesSubplot at 0x7f2072859518>"
      ]
     },
     "execution_count": 10,
     "metadata": {},
     "output_type": "execute_result"
    },
    {
     "data": {
      "image/png": "[encoded data removed]",
      "text/plain": [
       "<Figure size 432x288 with 1 Axes>"
      ]
     },
     "metadata": {},
     "output_type": "display_data"
    }
   ],
   "source": [
    "submission_df.score.hist()"
   ]
  },
  {
   "cell_type": "code",
   "execution_count": 11,
   "metadata": {},
   "outputs": [
    {
     "name": "stdout",
     "output_type": "stream",
     "text": [
      "(768, 768)\n",
      "7691 748 8459 748 9227 748 9995 748 10763 748 1153\n"
     ]
    },
    {
     "data": {
      "image/png": "[encoded data removed]",
      "text/plain": [
       "<Figure size 288x288 with 1 Axes>"
      ]
     },
     "metadata": {},
     "output_type": "display_data"
    }
   ],
   "source": [
    "def rle_encode(img):\n",
    "    '''\n",
    "    img: numpy array, 1 - mask, 0 - background\n",
    "    Returns run length as string formated\n",
    "    '''\n",
    "    pixels = img.T.flatten()\n",
    "    pixels = np.concatenate([[0], pixels, [0]])\n",
    "    runs = np.where(pixels[1:] != pixels[:-1])[0] + 1\n",
    "    runs[1::2] -= runs[::2]\n",
    "    return ' '.join(str(x) for x in runs)\n",
    "\n",
    "zp_dim = 10\n",
    "out_img = np.ones((768-2*zp_dim, 768-2*zp_dim), dtype=bool)\n",
    "out_img = np.pad(out_img, ((zp_dim, zp_dim),), mode='constant', constant_values=0)\n",
    "plt.matshow(out_img)\n",
    "print(out_img.shape)\n",
    "pos_ship_str = rle_encode(out_img)\n",
    "print(pos_ship_str[:50])"
   ]
  },
  {
   "cell_type": "code",
   "execution_count": 12,
   "metadata": {},
   "outputs": [
    {
     "name": "stdout",
     "output_type": "stream",
     "text": [
      "save result\n",
      "upload result\n",
      "cmd: kaggle competitions submit -c airbus-ship-detection -f ../result/isship_stack.csv.7z -m \"submit\"\n"
     ]
    }
   ],
   "source": [
    "import kaggle_util\n",
    "submission_df['EncodedPixels'] = submission_df['score'].map(lambda x: pos_ship_str if x>0.5 else None)\n",
    "out_df = submission_df[['ImageId', 'EncodedPixels']]\n",
    "kaggle_util.save_result(out_df, '../result/isship_{}.csv'.format('stack'), \n",
    "                        competition = 'airbus-ship-detection',\n",
    "                        send = True, index = False)"
   ]
  },
  {
   "cell_type": "code",
   "execution_count": null,
   "metadata": {},
   "outputs": [],
   "source": []
  }
 ],
 "metadata": {
  "kernelspec": {
   "display_name": "Python 3",
   "language": "python",
   "name": "python3"
  },
  "language_info": {
   "codemirror_mode": {
    "name": "ipython",
    "version": 3
   },
   "file_extension": ".py",
   "mimetype": "text/x-python",
   "name": "python",
   "nbconvert_exporter": "python",
   "pygments_lexer": "ipython3",
   "version": "3.6.5"
  }
 },
 "nbformat": 4,
 "nbformat_minor": 2
}
