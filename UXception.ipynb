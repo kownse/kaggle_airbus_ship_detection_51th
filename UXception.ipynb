{
 "cells": [
  {
   "cell_type": "code",
   "execution_count": 1,
   "metadata": {},
   "outputs": [
    {
     "name": "stderr",
     "output_type": "stream",
     "text": [
      "Using TensorFlow backend.\n"
     ]
    }
   ],
   "source": [
    "import os\n",
    "os.environ[\"CUDA_VISIBLE_DEVICES\"]=\"0\"\n",
    "\n",
    "import numpy as np\n",
    "import pandas as pd\n",
    "import gc\n",
    "import keras\n",
    "\n",
    "import matplotlib.pyplot as plt\n",
    "plt.style.use('seaborn-white')\n",
    "import seaborn as sns\n",
    "sns.set_style(\"white\")\n",
    "\n",
    "from sklearn.model_selection import train_test_split\n",
    "\n",
    "from skimage.transform import resize\n",
    "import tensorflow as tf\n",
    "import keras.backend as K\n",
    "from keras.losses import binary_crossentropy\n",
    "\n",
    "from keras.preprocessing.image import load_img\n",
    "from keras import Model\n",
    "from keras.callbacks import  ModelCheckpoint\n",
    "from keras.layers import Input, Conv2D, Conv2DTranspose, MaxPooling2D, concatenate, Dropout,BatchNormalization\n",
    "from keras.layers import Conv2D, Concatenate, MaxPooling2D\n",
    "from keras.layers import UpSampling2D, Dropout, BatchNormalization\n",
    "from tqdm import tqdm_notebook\n",
    "from keras import initializers\n",
    "from keras import regularizers\n",
    "from keras import constraints\n",
    "from keras.utils import conv_utils\n",
    "from keras.utils.data_utils import get_file\n",
    "from keras.engine.topology import get_source_inputs\n",
    "from keras.engine import InputSpec\n",
    "from keras import backend as K\n",
    "from keras.layers import LeakyReLU\n",
    "from keras.layers import ZeroPadding2D\n",
    "from keras.losses import binary_crossentropy\n",
    "import keras.callbacks as callbacks\n",
    "from keras.callbacks import Callback\n",
    "from keras.applications.xception import Xception\n",
    "from keras.layers import multiply\n",
    "\n",
    "\n",
    "from keras import optimizers\n",
    "from keras.legacy import interfaces\n",
    "from keras.utils.generic_utils import get_custom_objects\n",
    "\n",
    "from keras.engine.topology import Input\n",
    "from keras.engine.training import Model\n",
    "from keras.layers.convolutional import Conv2D, UpSampling2D, Conv2DTranspose\n",
    "from keras.layers.core import Activation, SpatialDropout2D\n",
    "from keras.layers.merge import concatenate\n",
    "from keras.layers.normalization import BatchNormalization\n",
    "from keras.layers.pooling import MaxPooling2D\n",
    "from keras.layers import Input,Dropout,BatchNormalization,Activation,Add\n",
    "from keras.regularizers import l2\n",
    "from keras.layers.core import Dense, Lambda\n",
    "from keras.layers.merge import concatenate, add\n",
    "from keras.layers import GlobalAveragePooling2D, Reshape, Dense, multiply, Permute\n",
    "from keras.optimizers import SGD\n",
    "\n",
    "from skimage import measure\n",
    "from skimage.morphology import square, erosion, dilation, watershed\n",
    "import math\n",
    "\n",
    "import kaggle_util\n",
    "\n",
    "import cv2\n",
    "from albumentations import (\n",
    "    PadIfNeeded,\n",
    "    HorizontalFlip,\n",
    "    VerticalFlip,    \n",
    "    CenterCrop,    \n",
    "    Crop,\n",
    "    Compose,\n",
    "    Transpose,\n",
    "    RandomRotate90,\n",
    "    ElasticTransform,\n",
    "    GridDistortion, \n",
    "    OpticalDistortion,\n",
    "    RandomSizedCrop,\n",
    "    OneOf,\n",
    "    CLAHE,\n",
    "    RandomContrast,\n",
    "    RandomGamma,\n",
    "    RandomBrightness\n",
    ")"
   ]
  },
  {
   "cell_type": "code",
   "execution_count": 2,
   "metadata": {},
   "outputs": [],
   "source": [
    "TAR_SIZE = 384\n",
    "INPUT_SHAPE = (TAR_SIZE, TAR_SIZE)\n",
    "\n",
    "BATCH_SIZE = 4\n",
    "PATH = './'\n",
    "TRAIN = '../input/train_v2/'\n",
    "TEST = '../input/test_v2/'\n",
    "SEGMENTATION = '../input/train_ship_segmentations_v2.csv.zip'\n",
    "exclude_list = ['6384c3e78.jpg','13703f040.jpg', '14715c06d.jpg',  '33e0ff2d5.jpg',\n",
    "                '4d4e09f2a.jpg', '877691df8.jpg', '8b909bb20.jpg', 'a8d99130e.jpg', \n",
    "                'ad55c3143.jpg', 'c8260c541.jpg', 'd6c7f17c7.jpg', 'dc3e7c901.jpg',\n",
    "                'e44dffe88.jpg', 'ef87bad36.jpg', 'f083256d8.jpg'] #corrupted images"
   ]
  },
  {
   "cell_type": "code",
   "execution_count": 3,
   "metadata": {},
   "outputs": [],
   "source": [
    "masks = pd.read_csv(SEGMENTATION)\n",
    "folds = pd.read_csv('../input/folds.csv')"
   ]
  },
  {
   "cell_type": "code",
   "execution_count": 4,
   "metadata": {},
   "outputs": [],
   "source": [
    "# def prepare_train_set(folds, fold):\n",
    "#     folds = folds.loc[folds.has_ship > 0]\n",
    "#     train_fold = folds.loc[folds.fold != fold]\n",
    "#     val_fold = folds.loc[(folds.fold == fold) & (folds.holdout == 1)]\n",
    "    \n",
    "    \n",
    "#     return train_fold, val_fold\n",
    "\n",
    "\n",
    "# fold = 0\n",
    "# train_fold, val_fold = prepare_train_set(folds, fold)\n",
    "# VALID_IMG_COUNT = len(val_fold)"
   ]
  },
  {
   "cell_type": "code",
   "execution_count": 5,
   "metadata": {},
   "outputs": [],
   "source": [
    "fold = 0\n",
    "folds = folds.loc[folds.has_ship > 0]\n",
    "train_fold, val_fold = train_test_split(folds, test_size=0.05, random_state=42)\n",
    "VALID_IMG_COUNT = len(val_fold)"
   ]
  },
  {
   "cell_type": "code",
   "execution_count": 6,
   "metadata": {},
   "outputs": [
    {
     "name": "stdout",
     "output_type": "stream",
     "text": [
      "train len: 40428 val len 2128\n"
     ]
    }
   ],
   "source": [
    "print('train len:', len(train_fold), 'val len', len(val_fold))"
   ]
  },
  {
   "cell_type": "code",
   "execution_count": 7,
   "metadata": {},
   "outputs": [],
   "source": [
    "def get_mask(img_id, df):\n",
    "    shape = (768,768)\n",
    "    img = np.zeros(shape[0]*shape[1], dtype=np.uint8)\n",
    "    masks = df.loc[df.ImageId == img_id]['EncodedPixels']\n",
    "    \n",
    "#     print(img_id, masks)\n",
    "    \n",
    "    if(type(masks.iloc[0]) == float): return img.reshape(shape)\n",
    "    for mask in masks:\n",
    "        s = mask.split()\n",
    "        for i in range(len(s)//2):\n",
    "            start = int(s[2*i]) - 1\n",
    "            length = int(s[2*i+1])\n",
    "            img[start:start+length] = 1\n",
    "    return img.reshape(shape).T"
   ]
  },
  {
   "cell_type": "code",
   "execution_count": 8,
   "metadata": {},
   "outputs": [],
   "source": [
    "augments = [\n",
    "    HorizontalFlip(p=0.5),\n",
    "    VerticalFlip(p=0.5),\n",
    "    RandomRotate90(p=0.5),\n",
    "    Transpose(p=0.5),\n",
    "    RandomBrightness(limit = 0.1, p = 0.2),\n",
    "    RandomGamma(gamma_limit=(90, 110), p = 0.2),\n",
    "]"
   ]
  },
  {
   "cell_type": "code",
   "execution_count": 9,
   "metadata": {},
   "outputs": [],
   "source": [
    "def train_data_generator_sigmoid(val_df, masks, batch_size, input_shape, augments):\n",
    "    \n",
    "    while True:\n",
    "        inputs = []\n",
    "        outputs = []\n",
    "        step_id = 0\n",
    "        cnt = 0\n",
    "        for idx, row in val_df.iterrows():\n",
    "            img_id = row.ImageId\n",
    "            imgpath = os.path.join(TRAIN, '{0}'.format(img_id))\n",
    "            img = cv2.imread(imgpath, cv2.IMREAD_COLOR)\n",
    "            \n",
    "            msk = get_mask(img_id, masks)\n",
    "                \n",
    "            img = cv2.resize(img, input_shape)\n",
    "            msk = cv2.resize(msk, input_shape)\n",
    "            \n",
    "            for aug in augments:\n",
    "                augmented = aug(image=img, mask=msk)\n",
    "                img = augmented['image']\n",
    "                msk = augmented['mask']\n",
    "            \n",
    "            msk = msk[..., np.newaxis]\n",
    "            otp = msk\n",
    "            \n",
    "            inputs.append(img)\n",
    "            outputs.append(otp)\n",
    "         \n",
    "            if len(inputs) == batch_size:\n",
    "                step_id += 1\n",
    "                inputs = np.asarray(inputs)\n",
    "                outputs = np.asarray(outputs, dtype='float')\n",
    "#                 for img in inputs:\n",
    "#                     print(img.min(), img.max(), img.shape)\n",
    "                yield inputs, outputs\n",
    "                inputs = []\n",
    "                outputs = []\n",
    "    \n"
   ]
  },
  {
   "cell_type": "code",
   "execution_count": 10,
   "metadata": {},
   "outputs": [],
   "source": [
    "def val_data_generator_sigmoid(val_df, masks, batch_size, validation_steps, input_shape):\n",
    "    while True:\n",
    "        inputs = []\n",
    "        outputs = []\n",
    "        step_id = 0\n",
    "        for idx, row in val_df.iterrows():\n",
    "            img_id = row.ImageId\n",
    "            imgpath = os.path.join(TRAIN, '{0}'.format(img_id))\n",
    "\n",
    "            img = cv2.imread(imgpath, cv2.IMREAD_COLOR)\n",
    "            msk = get_mask(img_id, masks)\n",
    "            \n",
    "            img = cv2.resize(img, input_shape)\n",
    "            msk = cv2.resize(msk, input_shape)\n",
    "            \n",
    "            msk = msk[..., np.newaxis]\n",
    "            otp = msk\n",
    "            \n",
    "            inputs.append(img)\n",
    "            outputs.append(otp)\n",
    "            \n",
    "            if len(inputs) == batch_size:\n",
    "                step_id += 1\n",
    "                inputs = np.asarray(inputs)\n",
    "                outputs = np.asarray(outputs, dtype='float')\n",
    "                yield inputs, outputs\n",
    "                inputs = []\n",
    "                outputs = []\n",
    "                if step_id == validation_steps:\n",
    "                    break"
   ]
  },
  {
   "cell_type": "code",
   "execution_count": 11,
   "metadata": {},
   "outputs": [],
   "source": [
    "val_steps = math.ceil(len(val_fold) / BATCH_SIZE)"
   ]
  },
  {
   "cell_type": "code",
   "execution_count": 12,
   "metadata": {},
   "outputs": [],
   "source": [
    "train_gen = train_data_generator_sigmoid(train_fold, masks, BATCH_SIZE, INPUT_SHAPE, augments)\n",
    "val_gen = val_data_generator_sigmoid(val_fold, masks, val_steps, val_steps, INPUT_SHAPE)"
   ]
  },
  {
   "cell_type": "code",
   "execution_count": 13,
   "metadata": {},
   "outputs": [],
   "source": [
    "val_x, val_y = next(val_gen)"
   ]
  },
  {
   "cell_type": "code",
   "execution_count": 14,
   "metadata": {},
   "outputs": [],
   "source": [
    "# https://www.kaggle.com/cpmpml/fast-iou-metric-in-numpy-and-tensorflow\n",
    "def get_iou_vector(A, B):\n",
    "    # Numpy version    \n",
    "    batch_size = A.shape[0]\n",
    "    metric = 0.0\n",
    "    for batch in range(batch_size):\n",
    "        t, p = A[batch], B[batch]\n",
    "        true = np.sum(t)\n",
    "        pred = np.sum(p)\n",
    "        \n",
    "        # deal with empty mask first\n",
    "        if true == 0:\n",
    "            metric += (pred == 0)\n",
    "            continue\n",
    "        \n",
    "        # non empty mask case.  Union is never empty \n",
    "        # hence it is safe to divide by its number of pixels\n",
    "        intersection = np.sum(t * p)\n",
    "        union = true + pred - intersection\n",
    "        iou = intersection / union\n",
    "        \n",
    "        # iou metrric is a stepwise approximation of the real iou over 0.5\n",
    "        iou = np.floor(max(0, (iou - 0.45)*20)) / 10\n",
    "        \n",
    "        metric += iou\n",
    "        \n",
    "    # teake the average over all images in batch\n",
    "    metric /= batch_size\n",
    "    return metric\n",
    "\n",
    "\n",
    "def my_iou_metric(label, pred):\n",
    "    # Tensorflow version\n",
    "    return tf.py_func(get_iou_vector, [label, pred > 0.5], tf.float64)"
   ]
  },
  {
   "cell_type": "code",
   "execution_count": 15,
   "metadata": {},
   "outputs": [],
   "source": [
    "def dice_coef(y_true, y_pred):\n",
    "    y_true_f = K.flatten(y_true)\n",
    "    y_pred = K.cast(y_pred, 'float32')\n",
    "    y_pred_f = K.cast(K.greater(K.flatten(y_pred), 0.5), 'float32')\n",
    "    intersection = y_true_f * y_pred_f\n",
    "    score = 2. * K.sum(intersection) / (K.sum(y_true_f) + K.sum(y_pred_f))\n",
    "    return score\n",
    "\n",
    "def dice_loss(y_true, y_pred):\n",
    "    smooth = 1.\n",
    "    y_true_f = K.flatten(y_true)\n",
    "    y_pred_f = K.flatten(y_pred)\n",
    "    intersection = y_true_f * y_pred_f\n",
    "    score = (2. * K.sum(intersection) + smooth) / (K.sum(y_true_f) + K.sum(y_pred_f) + smooth)\n",
    "    return 1. - score\n",
    "\n",
    "def bce_dice_loss(y_true, y_pred):\n",
    "    return binary_crossentropy(y_true, y_pred) + dice_loss(y_true, y_pred)\n",
    "\n",
    "def bce_logdice_loss(y_true, y_pred):\n",
    "    return binary_crossentropy(y_true, y_pred) - K.log(1. - dice_loss(y_true, y_pred))"
   ]
  },
  {
   "cell_type": "code",
   "execution_count": 16,
   "metadata": {},
   "outputs": [],
   "source": [
    "class SnapshotCallbackBuilder:\n",
    "    def __init__(self, nb_epochs, nb_snapshots, init_lr=0.1, fold = 0):\n",
    "        self.T = nb_epochs\n",
    "        self.M = nb_snapshots\n",
    "        self.alpha_zero = init_lr\n",
    "        self.fold = fold\n",
    "\n",
    "    def get_callbacks(self, model_prefix='Model'):\n",
    "\n",
    "        callback_list = [\n",
    "            callbacks.ModelCheckpoint(\"./models/XUnet{}_{}.model\".format(TAR_SIZE, self.fold),\n",
    "                                      monitor='val_my_iou_metric', \n",
    "                                   mode = 'max', save_best_only=True, verbose=1),\n",
    "            swa,\n",
    "            callbacks.LearningRateScheduler(schedule=self._cosine_anneal_schedule),\n",
    "            callbacks.TensorBoard(log_dir='./logs/XUnet{}_{}'.format(TAR_SIZE, self.fold)),\n",
    "        ]\n",
    "\n",
    "        return callback_list\n",
    "\n",
    "    def _cosine_anneal_schedule(self, t):\n",
    "        cos_inner = np.pi * (t % (self.T // self.M))  # t - 1 is used when t has 1-based indexing.\n",
    "        cos_inner /= self.T // self.M\n",
    "        cos_out = np.cos(cos_inner) + 1\n",
    "        return float(self.alpha_zero / 2 * cos_out)"
   ]
  },
  {
   "cell_type": "markdown",
   "metadata": {},
   "source": [
    "## Model"
   ]
  },
  {
   "cell_type": "code",
   "execution_count": 17,
   "metadata": {},
   "outputs": [],
   "source": [
    "def convolution_block(x, filters, size, strides=(1,1), padding='same', activation=True):\n",
    "    x = Conv2D(filters, size, strides=strides, padding=padding)(x)\n",
    "    x = BatchNormalization()(x)\n",
    "    if activation == True:\n",
    "        x = LeakyReLU(alpha=0.1)(x)\n",
    "    return x\n",
    "\n",
    "def residual_block(blockInput, num_filters=16):\n",
    "    x = LeakyReLU(alpha=0.1)(blockInput)\n",
    "    x = BatchNormalization()(x)\n",
    "    blockInput = BatchNormalization()(blockInput)\n",
    "    x = convolution_block(x, num_filters, (3,3) )\n",
    "    x = convolution_block(x, num_filters, (3,3), activation=False)\n",
    "    x = Add()([x, blockInput])\n",
    "    return x"
   ]
  },
  {
   "cell_type": "code",
   "execution_count": 18,
   "metadata": {},
   "outputs": [],
   "source": [
    "# https://github.com/titu1994/keras-normalized-optimizers\n",
    "# Computes the L-2 norm of the gradient.\n",
    "def l2_norm(grad):\n",
    "    norm = K.sqrt(K.sum(K.square(grad))) + K.epsilon()\n",
    "    return norm\n",
    "\n",
    "class OptimizerWrapper(optimizers.Optimizer):\n",
    "\n",
    "    def __init__(self, optimizer):     \n",
    "        \n",
    "        self.optimizer = optimizers.get(optimizer)\n",
    "\n",
    "        # patch the `get_gradients` call\n",
    "        self._optimizer_get_gradients = self.optimizer.get_gradients\n",
    "\n",
    "    def get_gradients(self, loss, params):      \n",
    "        grads = self._optimizer_get_gradients(loss, params)\n",
    "        return grads\n",
    "\n",
    "    @interfaces.legacy_get_updates_support\n",
    "    def get_updates(self, loss, params):\n",
    "        # monkey patch `get_gradients`\n",
    "        self.optimizer.get_gradients = self.get_gradients\n",
    "\n",
    "        # get the updates\n",
    "        self.optimizer.get_updates(loss, params)\n",
    "\n",
    "        # undo monkey patch\n",
    "        self.optimizer.get_gradients = self._optimizer_get_gradients\n",
    "\n",
    "        return self.updates\n",
    "\n",
    "    def set_weights(self, weights):       \n",
    "        self.optimizer.set_weights(weights)\n",
    "\n",
    "    def get_weights(self):        \n",
    "        return self.optimizer.get_weights()\n",
    "\n",
    "    def get_config(self):       \n",
    "        # properties of NormalizedOptimizer\n",
    "        config = {'optimizer_name': self.optimizer.__class__.__name__.lower()}\n",
    "\n",
    "        # optimizer config\n",
    "        optimizer_config = {'optimizer_config': self.optimizer.get_config()}\n",
    "        return dict(list(optimizer_config.items()) + list(config.items()))\n",
    "\n",
    "    @property\n",
    "    def weights(self):\n",
    "        return self.optimizer.weights\n",
    "\n",
    "    @property\n",
    "    def updates(self):\n",
    "        return self.optimizer.updates\n",
    "\n",
    "    @classmethod\n",
    "    def from_config(cls, config):\n",
    "        raise NotImplementedError\n",
    "\n",
    "    @classmethod\n",
    "    def set_normalization_function(cls, name, func):\n",
    "        global _NORMS\n",
    "        _NORMS[name] = func\n",
    "\n",
    "    @classmethod\n",
    "    def get_normalization_functions(cls):        \n",
    "        global _NORMS\n",
    "        return sorted(list(_NORMS.keys()))\n",
    "\n",
    "\n",
    "class NormalizedOptimizer(OptimizerWrapper):\n",
    "\n",
    "    def __init__(self, optimizer, normalization='l2'):       \n",
    "        super(NormalizedOptimizer, self).__init__(optimizer)\n",
    "\n",
    "        if normalization not in _NORMS:\n",
    "            raise ValueError('`normalization` must be one of %s.\\n' \n",
    "                             'Provided was \"%s\".' % (str(sorted(list(_NORMS.keys()))), normalization))\n",
    "\n",
    "        self.normalization = normalization\n",
    "        self.normalization_fn = _NORMS[normalization]\n",
    "        self.lr = K.variable(1e-3, name='lr')\n",
    "\n",
    "    def get_gradients(self, loss, params):       \n",
    "        grads = super(NormalizedOptimizer, self).get_gradients(loss, params)\n",
    "        grads = [grad / self.normalization_fn(grad) for grad in grads]\n",
    "        return grads\n",
    "\n",
    "    def get_config(self):        \n",
    "        # properties of NormalizedOptimizer\n",
    "        config = {'normalization': self.normalization}\n",
    "\n",
    "        # optimizer config\n",
    "        base_config = super(NormalizedOptimizer, self).get_config()\n",
    "        return dict(list(base_config.items()) + list(config.items()))\n",
    "\n",
    "    @classmethod\n",
    "    def from_config(cls, config):       \n",
    "        optimizer_config = {'class_name': config['optimizer_name'],\n",
    "                            'config': config['optimizer_config']}\n",
    "\n",
    "        optimizer = optimizers.get(optimizer_config)\n",
    "        normalization = config['normalization']\n",
    "\n",
    "        return cls(optimizer, normalization=normalization)\n",
    "\n",
    "\n",
    "_NORMS = {\n",
    "    'l2': l2_norm,\n",
    "}\n",
    "\n",
    "# register this optimizer to the global custom objects when it is imported\n",
    "get_custom_objects().update({'NormalizedOptimizer': NormalizedOptimizer})"
   ]
  },
  {
   "cell_type": "code",
   "execution_count": 19,
   "metadata": {},
   "outputs": [],
   "source": [
    "def UXception(input_shape=(None, None, 3)):\n",
    "\n",
    "    backbone = Xception(input_shape=input_shape,weights='imagenet',include_top=False)\n",
    "    input = backbone.input\n",
    "    start_neurons = 16\n",
    "\n",
    "    conv4 = backbone.layers[121].output\n",
    "    conv4 = LeakyReLU(alpha=0.1)(conv4)\n",
    "    pool4 = MaxPooling2D((2, 2))(conv4)\n",
    "    pool4 = Dropout(0.1)(pool4)\n",
    "    \n",
    "     # Middle\n",
    "    convm = Conv2D(start_neurons * 32, (3, 3), activation=None, padding=\"same\")(pool4)\n",
    "    convm = residual_block(convm,start_neurons * 32)\n",
    "    convm = residual_block(convm,start_neurons * 32)\n",
    "    convm = LeakyReLU(alpha=0.1)(convm)\n",
    "    \n",
    "    # 10 -> 20\n",
    "    deconv4 = Conv2DTranspose(start_neurons * 16, (3, 3), strides=(2, 2), padding=\"same\")(convm)\n",
    "    uconv4 = concatenate([deconv4, conv4])\n",
    "    uconv4 = Dropout(0.1)(uconv4)\n",
    "    \n",
    "    uconv4 = Conv2D(start_neurons * 16, (3, 3), activation=None, padding=\"same\")(uconv4)\n",
    "    uconv4 = residual_block(uconv4,start_neurons * 16)\n",
    "    uconv4 = residual_block(uconv4,start_neurons * 16)\n",
    "    uconv4 = LeakyReLU(alpha=0.1)(uconv4)\n",
    "    \n",
    "    # 10 -> 20\n",
    "    deconv3 = Conv2DTranspose(start_neurons * 8, (3, 3), strides=(2, 2), padding=\"same\")(uconv4)\n",
    "    conv3 = backbone.layers[31].output\n",
    "    uconv3 = concatenate([deconv3, conv3])    \n",
    "    uconv3 = Dropout(0.1)(uconv3)\n",
    "    \n",
    "    uconv3 = Conv2D(start_neurons * 8, (3, 3), activation=None, padding=\"same\")(uconv3)\n",
    "    uconv3 = residual_block(uconv3,start_neurons * 8)\n",
    "    uconv3 = residual_block(uconv3,start_neurons * 8)\n",
    "    uconv3 = LeakyReLU(alpha=0.1)(uconv3)\n",
    "\n",
    "    # 20 -> 40\n",
    "    deconv2 = Conv2DTranspose(start_neurons * 4, (3, 3), strides=(2, 2), padding=\"same\")(uconv3)\n",
    "    conv2 = backbone.layers[21].output\n",
    "    conv2 = ZeroPadding2D(((1,0),(1,0)))(conv2)\n",
    "    uconv2 = concatenate([deconv2, conv2])\n",
    "        \n",
    "    uconv2 = Dropout(0.1)(uconv2)\n",
    "    uconv2 = Conv2D(start_neurons * 4, (3, 3), activation=None, padding=\"same\")(uconv2)\n",
    "    uconv2 = residual_block(uconv2,start_neurons * 4)\n",
    "    uconv2 = residual_block(uconv2,start_neurons * 4)\n",
    "    uconv2 = LeakyReLU(alpha=0.1)(uconv2)\n",
    "    \n",
    "    # 40 -> 80\n",
    "    deconv1 = Conv2DTranspose(start_neurons * 2, (3, 3), strides=(2, 2), padding=\"same\")(uconv2)\n",
    "    conv1 = backbone.layers[11].output\n",
    "    conv1 = ZeroPadding2D(((3,0),(3,0)))(conv1)\n",
    "    uconv1 = concatenate([deconv1, conv1])\n",
    "    \n",
    "    uconv1 = Dropout(0.1)(uconv1)\n",
    "    uconv1 = Conv2D(start_neurons * 2, (3, 3), activation=None, padding=\"same\")(uconv1)\n",
    "    uconv1 = residual_block(uconv1,start_neurons * 2)\n",
    "    uconv1 = residual_block(uconv1,start_neurons * 2)\n",
    "    uconv1 = LeakyReLU(alpha=0.1)(uconv1)\n",
    "    \n",
    "    \n",
    "    # 80 -> 160\n",
    "    uconv0 = Conv2DTranspose(start_neurons * 1, (3, 3), strides=(2, 2), padding=\"same\")(uconv1)   \n",
    "    uconv0 = Dropout(0.1)(uconv0)\n",
    "    uconv0 = Conv2D(start_neurons * 1, (3, 3), activation=None, padding=\"same\")(uconv0)\n",
    "    uconv0 = residual_block(uconv0,start_neurons * 1)\n",
    "    uconv0 = residual_block(uconv0,start_neurons * 1)\n",
    "    uconv0 = LeakyReLU(alpha=0.1)(uconv0)\n",
    "    \n",
    "    uconv0 = Dropout(0.1/2)(uconv0)\n",
    "    output_layer = Conv2D(1, (1,1), padding=\"same\", activation=\"sigmoid\")(uconv0)    \n",
    "    \n",
    "    model = Model(input, output_layer)\n",
    "    model.name = 'u-xception'\n",
    "\n",
    "    return model"
   ]
  },
  {
   "cell_type": "code",
   "execution_count": 20,
   "metadata": {},
   "outputs": [],
   "source": [
    "class SWA(keras.callbacks.Callback):\n",
    "    \n",
    "    def __init__(self, filepath, swa_epoch):\n",
    "        super(SWA, self).__init__()\n",
    "        self.filepath = filepath\n",
    "        self.swa_epoch = swa_epoch \n",
    "    \n",
    "    def on_train_begin(self, logs=None):\n",
    "        self.nb_epoch = self.params['epochs']\n",
    "        print('Stochastic weight averaging selected for last {} epochs.'\n",
    "              .format(self.nb_epoch - self.swa_epoch))\n",
    "        \n",
    "    def on_epoch_end(self, epoch, logs=None):\n",
    "        \n",
    "        if epoch == self.swa_epoch:\n",
    "            self.swa_weights = self.model.get_weights()\n",
    "            \n",
    "        elif epoch > self.swa_epoch:    \n",
    "            for i in range(len(self.swa_weights)):\n",
    "                self.swa_weights[i] = (self.swa_weights[i] * \n",
    "                    (epoch - self.swa_epoch) + self.model.get_weights()[i])/((epoch - self.swa_epoch)  + 1)  \n",
    "\n",
    "        else:\n",
    "            pass\n",
    "        \n",
    "    def on_train_end(self, logs=None):\n",
    "        self.model.set_weights(self.swa_weights)\n",
    "        print('Final model parameters set to stochastic weight average.')\n",
    "        self.model.save_weights(self.filepath)\n",
    "        print('Final stochastic averaged weights saved to file.')"
   ]
  },
  {
   "cell_type": "code",
   "execution_count": 21,
   "metadata": {},
   "outputs": [],
   "source": [
    "K.clear_session()\n",
    "model = UXception(input_shape=(TAR_SIZE,TAR_SIZE,3))"
   ]
  },
  {
   "cell_type": "code",
   "execution_count": 22,
   "metadata": {},
   "outputs": [],
   "source": [
    "sgd = SGD(0.005, momentum=0.9, nesterov=True)\n",
    "sgd = NormalizedOptimizer(sgd, normalization='l2')"
   ]
  },
  {
   "cell_type": "code",
   "execution_count": 23,
   "metadata": {},
   "outputs": [],
   "source": [
    "model.compile(loss=bce_dice_loss, optimizer=sgd, metrics=[my_iou_metric])"
   ]
  },
  {
   "cell_type": "code",
   "execution_count": 24,
   "metadata": {},
   "outputs": [],
   "source": [
    "model.load_weights('./models/XUnet256_swa_0.model')"
   ]
  },
  {
   "cell_type": "code",
   "execution_count": 25,
   "metadata": {},
   "outputs": [],
   "source": [
    "step_per_epoch = math.ceil(len(train_fold) / BATCH_SIZE / 3)"
   ]
  },
  {
   "cell_type": "code",
   "execution_count": 26,
   "metadata": {},
   "outputs": [
    {
     "name": "stdout",
     "output_type": "stream",
     "text": [
      "Stochastic weight averaging selected for last -5 epochs.\n",
      "Epoch 1/30\n",
      "3369/3369 [==============================] - 1216s 361ms/step - loss: 0.1632 - my_iou_metric: 0.4454 - val_loss: 0.1805 - val_my_iou_metric: 0.4291\n",
      "\n",
      "Epoch 00001: val_my_iou_metric improved from -inf to 0.42914, saving model to ./models/XUnet384_0.model\n",
      "Epoch 2/30\n",
      "3369/3369 [==============================] - 1237s 367ms/step - loss: 0.1601 - my_iou_metric: 0.4459 - val_loss: 0.1703 - val_my_iou_metric: 0.4414\n",
      "\n",
      "Epoch 00002: val_my_iou_metric improved from 0.42914 to 0.44135, saving model to ./models/XUnet384_0.model\n",
      "Epoch 3/30\n",
      "3369/3369 [==============================] - 1240s 368ms/step - loss: 0.1539 - my_iou_metric: 0.4498 - val_loss: 0.1814 - val_my_iou_metric: 0.4421\n",
      "\n",
      "Epoch 00003: val_my_iou_metric improved from 0.44135 to 0.44211, saving model to ./models/XUnet384_0.model\n",
      "Epoch 4/30\n",
      "3369/3369 [==============================] - 1240s 368ms/step - loss: 0.1528 - my_iou_metric: 0.4556 - val_loss: 0.1774 - val_my_iou_metric: 0.4301\n",
      "\n",
      "Epoch 00004: val_my_iou_metric did not improve from 0.44211\n",
      "Epoch 5/30\n",
      "3369/3369 [==============================] - 1240s 368ms/step - loss: 0.1518 - my_iou_metric: 0.4557 - val_loss: 0.1700 - val_my_iou_metric: 0.4447\n",
      "\n",
      "Epoch 00005: val_my_iou_metric improved from 0.44211 to 0.44474, saving model to ./models/XUnet384_0.model\n",
      "Epoch 6/30\n",
      "3369/3369 [==============================] - 1240s 368ms/step - loss: 0.1503 - my_iou_metric: 0.4580 - val_loss: 0.1616 - val_my_iou_metric: 0.4577\n",
      "\n",
      "Epoch 00006: val_my_iou_metric improved from 0.44474 to 0.45771, saving model to ./models/XUnet384_0.model\n",
      "Epoch 7/30\n",
      "3369/3369 [==============================] - 1234s 366ms/step - loss: 0.1470 - my_iou_metric: 0.4649 - val_loss: 0.1720 - val_my_iou_metric: 0.4410\n",
      "\n",
      "Epoch 00007: val_my_iou_metric did not improve from 0.45771\n",
      "Epoch 8/30\n",
      "3369/3369 [==============================] - 1234s 366ms/step - loss: 0.1465 - my_iou_metric: 0.4623 - val_loss: 0.1671 - val_my_iou_metric: 0.4477\n",
      "\n",
      "Epoch 00008: val_my_iou_metric did not improve from 0.45771\n",
      "Epoch 9/30\n",
      "3369/3369 [==============================] - 1234s 366ms/step - loss: 0.1436 - my_iou_metric: 0.4662 - val_loss: 0.1627 - val_my_iou_metric: 0.4519\n",
      "\n",
      "Epoch 00009: val_my_iou_metric did not improve from 0.45771\n",
      "Epoch 10/30\n",
      "3369/3369 [==============================] - 1234s 366ms/step - loss: 0.1442 - my_iou_metric: 0.4702 - val_loss: 0.1821 - val_my_iou_metric: 0.4367\n",
      "\n",
      "Epoch 00010: val_my_iou_metric did not improve from 0.45771\n",
      "Epoch 11/30\n",
      "3369/3369 [==============================] - 1234s 366ms/step - loss: 0.1437 - my_iou_metric: 0.4667 - val_loss: 0.1641 - val_my_iou_metric: 0.4464\n",
      "\n",
      "Epoch 00011: val_my_iou_metric did not improve from 0.45771\n",
      "Epoch 12/30\n",
      "3369/3369 [==============================] - 1235s 366ms/step - loss: 0.1417 - my_iou_metric: 0.4688 - val_loss: 0.1638 - val_my_iou_metric: 0.4637\n",
      "\n",
      "Epoch 00012: val_my_iou_metric improved from 0.45771 to 0.46372, saving model to ./models/XUnet384_0.model\n",
      "Epoch 13/30\n",
      "3369/3369 [==============================] - 1235s 367ms/step - loss: 0.1407 - my_iou_metric: 0.4752 - val_loss: 0.1628 - val_my_iou_metric: 0.4662\n",
      "\n",
      "Epoch 00013: val_my_iou_metric improved from 0.46372 to 0.46617, saving model to ./models/XUnet384_0.model\n",
      "Epoch 14/30\n",
      "3369/3369 [==============================] - 1235s 367ms/step - loss: 0.1405 - my_iou_metric: 0.4749 - val_loss: 0.1616 - val_my_iou_metric: 0.4562\n",
      "\n",
      "Epoch 00014: val_my_iou_metric did not improve from 0.46617\n",
      "Epoch 15/30\n",
      "3369/3369 [==============================] - 1235s 367ms/step - loss: 0.1385 - my_iou_metric: 0.4740 - val_loss: 0.1600 - val_my_iou_metric: 0.4620\n",
      "\n",
      "Epoch 00015: val_my_iou_metric did not improve from 0.46617\n",
      "Epoch 16/30\n",
      "3369/3369 [==============================] - 1235s 367ms/step - loss: 0.1385 - my_iou_metric: 0.4814 - val_loss: 0.1635 - val_my_iou_metric: 0.4566\n",
      "\n",
      "Epoch 00016: val_my_iou_metric did not improve from 0.46617\n",
      "Epoch 17/30\n",
      "3369/3369 [==============================] - 1235s 367ms/step - loss: 0.1386 - my_iou_metric: 0.4779 - val_loss: 0.1708 - val_my_iou_metric: 0.4449\n",
      "\n",
      "Epoch 00017: val_my_iou_metric did not improve from 0.46617\n",
      "Epoch 18/30\n",
      "3369/3369 [==============================] - 1235s 366ms/step - loss: 0.1363 - my_iou_metric: 0.4781 - val_loss: 0.1590 - val_my_iou_metric: 0.4754\n",
      "\n",
      "Epoch 00018: val_my_iou_metric improved from 0.46617 to 0.47538, saving model to ./models/XUnet384_0.model\n",
      "Epoch 19/30\n",
      "3369/3369 [==============================] - 1235s 367ms/step - loss: 0.1344 - my_iou_metric: 0.4854 - val_loss: 0.1625 - val_my_iou_metric: 0.4573\n",
      "\n",
      "Epoch 00019: val_my_iou_metric did not improve from 0.47538\n",
      "Epoch 20/30\n",
      "3369/3369 [==============================] - 1235s 367ms/step - loss: 0.1359 - my_iou_metric: 0.4819 - val_loss: 0.1561 - val_my_iou_metric: 0.4701\n",
      "\n",
      "Epoch 00020: val_my_iou_metric did not improve from 0.47538\n",
      "Epoch 21/30\n",
      "3369/3369 [==============================] - 1235s 367ms/step - loss: 0.1330 - my_iou_metric: 0.4828 - val_loss: 0.1537 - val_my_iou_metric: 0.4603\n",
      "\n",
      "Epoch 00021: val_my_iou_metric did not improve from 0.47538\n",
      "Epoch 22/30\n",
      "3369/3369 [==============================] - 1235s 367ms/step - loss: 0.1323 - my_iou_metric: 0.4879 - val_loss: 0.1728 - val_my_iou_metric: 0.4402\n",
      "\n",
      "Epoch 00022: val_my_iou_metric did not improve from 0.47538\n",
      "Epoch 23/30\n",
      "3369/3369 [==============================] - 1235s 367ms/step - loss: 0.1337 - my_iou_metric: 0.4851 - val_loss: 0.1534 - val_my_iou_metric: 0.4705\n",
      "\n",
      "Epoch 00023: val_my_iou_metric did not improve from 0.47538\n",
      "Epoch 24/30\n",
      "3369/3369 [==============================] - 1235s 367ms/step - loss: 0.1315 - my_iou_metric: 0.4866 - val_loss: 0.1466 - val_my_iou_metric: 0.4820\n",
      "\n",
      "Epoch 00024: val_my_iou_metric improved from 0.47538 to 0.48195, saving model to ./models/XUnet384_0.model\n",
      "Epoch 25/30\n",
      "3369/3369 [==============================] - 1235s 367ms/step - loss: 0.1311 - my_iou_metric: 0.4934 - val_loss: 0.1665 - val_my_iou_metric: 0.4596\n",
      "\n",
      "Epoch 00025: val_my_iou_metric did not improve from 0.48195\n",
      "Epoch 26/30\n",
      "3369/3369 [==============================] - 1234s 366ms/step - loss: 0.1307 - my_iou_metric: 0.4892 - val_loss: 0.1665 - val_my_iou_metric: 0.4575\n",
      "\n",
      "Epoch 00026: val_my_iou_metric did not improve from 0.48195\n",
      "Epoch 27/30\n",
      "3369/3369 [==============================] - 1235s 367ms/step - loss: 0.1290 - my_iou_metric: 0.4914 - val_loss: 0.1550 - val_my_iou_metric: 0.4686\n",
      "\n",
      "Epoch 00027: val_my_iou_metric did not improve from 0.48195\n",
      "Epoch 28/30\n",
      "3369/3369 [==============================] - 1235s 367ms/step - loss: 0.1277 - my_iou_metric: 0.4969 - val_loss: 0.1615 - val_my_iou_metric: 0.4618\n",
      "\n",
      "Epoch 00028: val_my_iou_metric did not improve from 0.48195\n",
      "Epoch 29/30\n",
      "  50/3369 [..............................] - ETA: 20:05 - loss: 0.1154 - my_iou_metric: 0.4930"
     ]
    },
    {
     "ename": "KeyboardInterrupt",
     "evalue": "",
     "output_type": "error",
     "traceback": [
      "\u001b[0;31m---------------------------------------------------------------------------\u001b[0m",
      "\u001b[0;31mKeyboardInterrupt\u001b[0m                         Traceback (most recent call last)",
      "\u001b[0;32m<ipython-input-26-f55cb41688ec>\u001b[0m in \u001b[0;36m<module>\u001b[0;34m()\u001b[0m\n\u001b[1;32m      6\u001b[0m                     \u001b[0mepochs\u001b[0m\u001b[0;34m=\u001b[0m\u001b[0mepochs\u001b[0m\u001b[0;34m,\u001b[0m\u001b[0;34m\u001b[0m\u001b[0m\n\u001b[1;32m      7\u001b[0m                     \u001b[0mworkers\u001b[0m \u001b[0;34m=\u001b[0m \u001b[0;36m3\u001b[0m\u001b[0;34m,\u001b[0m\u001b[0;34m\u001b[0m\u001b[0m\n\u001b[0;32m----> 8\u001b[0;31m                     callbacks=snapshot.get_callbacks(),shuffle=True,verbose=1)\n\u001b[0m",
      "\u001b[0;32m~/anaconda3/lib/python3.6/site-packages/keras/legacy/interfaces.py\u001b[0m in \u001b[0;36mwrapper\u001b[0;34m(*args, **kwargs)\u001b[0m\n\u001b[1;32m     89\u001b[0m                 warnings.warn('Update your `' + object_name +\n\u001b[1;32m     90\u001b[0m                               '` call to the Keras 2 API: ' + signature, stacklevel=2)\n\u001b[0;32m---> 91\u001b[0;31m             \u001b[0;32mreturn\u001b[0m \u001b[0mfunc\u001b[0m\u001b[0;34m(\u001b[0m\u001b[0;34m*\u001b[0m\u001b[0margs\u001b[0m\u001b[0;34m,\u001b[0m \u001b[0;34m**\u001b[0m\u001b[0mkwargs\u001b[0m\u001b[0;34m)\u001b[0m\u001b[0;34m\u001b[0m\u001b[0m\n\u001b[0m\u001b[1;32m     92\u001b[0m         \u001b[0mwrapper\u001b[0m\u001b[0;34m.\u001b[0m\u001b[0m_original_function\u001b[0m \u001b[0;34m=\u001b[0m \u001b[0mfunc\u001b[0m\u001b[0;34m\u001b[0m\u001b[0m\n\u001b[1;32m     93\u001b[0m         \u001b[0;32mreturn\u001b[0m \u001b[0mwrapper\u001b[0m\u001b[0;34m\u001b[0m\u001b[0m\n",
      "\u001b[0;32m~/anaconda3/lib/python3.6/site-packages/keras/engine/training.py\u001b[0m in \u001b[0;36mfit_generator\u001b[0;34m(self, generator, steps_per_epoch, epochs, verbose, callbacks, validation_data, validation_steps, class_weight, max_queue_size, workers, use_multiprocessing, shuffle, initial_epoch)\u001b[0m\n\u001b[1;32m   1413\u001b[0m             \u001b[0muse_multiprocessing\u001b[0m\u001b[0;34m=\u001b[0m\u001b[0muse_multiprocessing\u001b[0m\u001b[0;34m,\u001b[0m\u001b[0;34m\u001b[0m\u001b[0m\n\u001b[1;32m   1414\u001b[0m             \u001b[0mshuffle\u001b[0m\u001b[0;34m=\u001b[0m\u001b[0mshuffle\u001b[0m\u001b[0;34m,\u001b[0m\u001b[0;34m\u001b[0m\u001b[0m\n\u001b[0;32m-> 1415\u001b[0;31m             initial_epoch=initial_epoch)\n\u001b[0m\u001b[1;32m   1416\u001b[0m \u001b[0;34m\u001b[0m\u001b[0m\n\u001b[1;32m   1417\u001b[0m     \u001b[0;34m@\u001b[0m\u001b[0minterfaces\u001b[0m\u001b[0;34m.\u001b[0m\u001b[0mlegacy_generator_methods_support\u001b[0m\u001b[0;34m\u001b[0m\u001b[0m\n",
      "\u001b[0;32m~/anaconda3/lib/python3.6/site-packages/keras/engine/training_generator.py\u001b[0m in \u001b[0;36mfit_generator\u001b[0;34m(model, generator, steps_per_epoch, epochs, verbose, callbacks, validation_data, validation_steps, class_weight, max_queue_size, workers, use_multiprocessing, shuffle, initial_epoch)\u001b[0m\n\u001b[1;32m    211\u001b[0m                 outs = model.train_on_batch(x, y,\n\u001b[1;32m    212\u001b[0m                                             \u001b[0msample_weight\u001b[0m\u001b[0;34m=\u001b[0m\u001b[0msample_weight\u001b[0m\u001b[0;34m,\u001b[0m\u001b[0;34m\u001b[0m\u001b[0m\n\u001b[0;32m--> 213\u001b[0;31m                                             class_weight=class_weight)\n\u001b[0m\u001b[1;32m    214\u001b[0m \u001b[0;34m\u001b[0m\u001b[0m\n\u001b[1;32m    215\u001b[0m                 \u001b[0mouts\u001b[0m \u001b[0;34m=\u001b[0m \u001b[0mto_list\u001b[0m\u001b[0;34m(\u001b[0m\u001b[0mouts\u001b[0m\u001b[0;34m)\u001b[0m\u001b[0;34m\u001b[0m\u001b[0m\n",
      "\u001b[0;32m~/anaconda3/lib/python3.6/site-packages/keras/engine/training.py\u001b[0m in \u001b[0;36mtrain_on_batch\u001b[0;34m(self, x, y, sample_weight, class_weight)\u001b[0m\n\u001b[1;32m   1213\u001b[0m             \u001b[0mins\u001b[0m \u001b[0;34m=\u001b[0m \u001b[0mx\u001b[0m \u001b[0;34m+\u001b[0m \u001b[0my\u001b[0m \u001b[0;34m+\u001b[0m \u001b[0msample_weights\u001b[0m\u001b[0;34m\u001b[0m\u001b[0m\n\u001b[1;32m   1214\u001b[0m         \u001b[0mself\u001b[0m\u001b[0;34m.\u001b[0m\u001b[0m_make_train_function\u001b[0m\u001b[0;34m(\u001b[0m\u001b[0;34m)\u001b[0m\u001b[0;34m\u001b[0m\u001b[0m\n\u001b[0;32m-> 1215\u001b[0;31m         \u001b[0moutputs\u001b[0m \u001b[0;34m=\u001b[0m \u001b[0mself\u001b[0m\u001b[0;34m.\u001b[0m\u001b[0mtrain_function\u001b[0m\u001b[0;34m(\u001b[0m\u001b[0mins\u001b[0m\u001b[0;34m)\u001b[0m\u001b[0;34m\u001b[0m\u001b[0m\n\u001b[0m\u001b[1;32m   1216\u001b[0m         \u001b[0;32mreturn\u001b[0m \u001b[0munpack_singleton\u001b[0m\u001b[0;34m(\u001b[0m\u001b[0moutputs\u001b[0m\u001b[0;34m)\u001b[0m\u001b[0;34m\u001b[0m\u001b[0m\n\u001b[1;32m   1217\u001b[0m \u001b[0;34m\u001b[0m\u001b[0m\n",
      "\u001b[0;32m~/anaconda3/lib/python3.6/site-packages/keras/backend/tensorflow_backend.py\u001b[0m in \u001b[0;36m__call__\u001b[0;34m(self, inputs)\u001b[0m\n\u001b[1;32m   2664\u001b[0m                 \u001b[0;32mreturn\u001b[0m \u001b[0mself\u001b[0m\u001b[0;34m.\u001b[0m\u001b[0m_legacy_call\u001b[0m\u001b[0;34m(\u001b[0m\u001b[0minputs\u001b[0m\u001b[0;34m)\u001b[0m\u001b[0;34m\u001b[0m\u001b[0m\n\u001b[1;32m   2665\u001b[0m \u001b[0;34m\u001b[0m\u001b[0m\n\u001b[0;32m-> 2666\u001b[0;31m             \u001b[0;32mreturn\u001b[0m \u001b[0mself\u001b[0m\u001b[0;34m.\u001b[0m\u001b[0m_call\u001b[0m\u001b[0;34m(\u001b[0m\u001b[0minputs\u001b[0m\u001b[0;34m)\u001b[0m\u001b[0;34m\u001b[0m\u001b[0m\n\u001b[0m\u001b[1;32m   2667\u001b[0m         \u001b[0;32melse\u001b[0m\u001b[0;34m:\u001b[0m\u001b[0;34m\u001b[0m\u001b[0m\n\u001b[1;32m   2668\u001b[0m             \u001b[0;32mif\u001b[0m \u001b[0mpy_any\u001b[0m\u001b[0;34m(\u001b[0m\u001b[0mis_tensor\u001b[0m\u001b[0;34m(\u001b[0m\u001b[0mx\u001b[0m\u001b[0;34m)\u001b[0m \u001b[0;32mfor\u001b[0m \u001b[0mx\u001b[0m \u001b[0;32min\u001b[0m \u001b[0minputs\u001b[0m\u001b[0;34m)\u001b[0m\u001b[0;34m:\u001b[0m\u001b[0;34m\u001b[0m\u001b[0m\n",
      "\u001b[0;32m~/anaconda3/lib/python3.6/site-packages/keras/backend/tensorflow_backend.py\u001b[0m in \u001b[0;36m_call\u001b[0;34m(self, inputs)\u001b[0m\n\u001b[1;32m   2634\u001b[0m                                 \u001b[0msymbol_vals\u001b[0m\u001b[0;34m,\u001b[0m\u001b[0;34m\u001b[0m\u001b[0m\n\u001b[1;32m   2635\u001b[0m                                 session)\n\u001b[0;32m-> 2636\u001b[0;31m         \u001b[0mfetched\u001b[0m \u001b[0;34m=\u001b[0m \u001b[0mself\u001b[0m\u001b[0;34m.\u001b[0m\u001b[0m_callable_fn\u001b[0m\u001b[0;34m(\u001b[0m\u001b[0;34m*\u001b[0m\u001b[0marray_vals\u001b[0m\u001b[0;34m)\u001b[0m\u001b[0;34m\u001b[0m\u001b[0m\n\u001b[0m\u001b[1;32m   2637\u001b[0m         \u001b[0;32mreturn\u001b[0m \u001b[0mfetched\u001b[0m\u001b[0;34m[\u001b[0m\u001b[0;34m:\u001b[0m\u001b[0mlen\u001b[0m\u001b[0;34m(\u001b[0m\u001b[0mself\u001b[0m\u001b[0;34m.\u001b[0m\u001b[0moutputs\u001b[0m\u001b[0;34m)\u001b[0m\u001b[0;34m]\u001b[0m\u001b[0;34m\u001b[0m\u001b[0m\n\u001b[1;32m   2638\u001b[0m \u001b[0;34m\u001b[0m\u001b[0m\n",
      "\u001b[0;32m~/anaconda3/lib/python3.6/site-packages/tensorflow/python/client/session.py\u001b[0m in \u001b[0;36m__call__\u001b[0;34m(self, *args, **kwargs)\u001b[0m\n\u001b[1;32m   1437\u001b[0m           ret = tf_session.TF_SessionRunCallable(\n\u001b[1;32m   1438\u001b[0m               \u001b[0mself\u001b[0m\u001b[0;34m.\u001b[0m\u001b[0m_session\u001b[0m\u001b[0;34m.\u001b[0m\u001b[0m_session\u001b[0m\u001b[0;34m,\u001b[0m \u001b[0mself\u001b[0m\u001b[0;34m.\u001b[0m\u001b[0m_handle\u001b[0m\u001b[0;34m,\u001b[0m \u001b[0margs\u001b[0m\u001b[0;34m,\u001b[0m \u001b[0mstatus\u001b[0m\u001b[0;34m,\u001b[0m\u001b[0;34m\u001b[0m\u001b[0m\n\u001b[0;32m-> 1439\u001b[0;31m               run_metadata_ptr)\n\u001b[0m\u001b[1;32m   1440\u001b[0m         \u001b[0;32mif\u001b[0m \u001b[0mrun_metadata\u001b[0m\u001b[0;34m:\u001b[0m\u001b[0;34m\u001b[0m\u001b[0m\n\u001b[1;32m   1441\u001b[0m           \u001b[0mproto_data\u001b[0m \u001b[0;34m=\u001b[0m \u001b[0mtf_session\u001b[0m\u001b[0;34m.\u001b[0m\u001b[0mTF_GetBuffer\u001b[0m\u001b[0;34m(\u001b[0m\u001b[0mrun_metadata_ptr\u001b[0m\u001b[0;34m)\u001b[0m\u001b[0;34m\u001b[0m\u001b[0m\n",
      "\u001b[0;31mKeyboardInterrupt\u001b[0m: "
     ]
    }
   ],
   "source": [
    "epochs = 30\n",
    "snapshot = SnapshotCallbackBuilder(nb_epochs=epochs,nb_snapshots=1,init_lr=1e-3, fold=fold)\n",
    "swa = SWA('./models/XUnet{}_swa_{}.model'.format(TAR_SIZE, fold), 35)\n",
    "history = model.fit_generator(train_gen, step_per_epoch,\n",
    "                    validation_data = (val_x, val_y),\n",
    "                    epochs=epochs,\n",
    "                    workers = 3,\n",
    "                    callbacks=snapshot.get_callbacks(),shuffle=True,verbose=1)"
   ]
  },
  {
   "cell_type": "code",
   "execution_count": 27,
   "metadata": {},
   "outputs": [
    {
     "name": "stdout",
     "output_type": "stream",
     "text": [
      "using swa weight model\n"
     ]
    }
   ],
   "source": [
    "try:\n",
    "    print('using swa weight model')\n",
    "    model.load_weights('./models/XUnet{}_swa_{}.model'.format(TAR_SIZE, fold))\n",
    "except:\n",
    "    model.load_weights('./models/XUnet{}_{}.model'.format(TAR_SIZE, fold))"
   ]
  },
  {
   "cell_type": "code",
   "execution_count": 28,
   "metadata": {},
   "outputs": [],
   "source": [
    "def predict_result(model,x_test,img_size_target,batch_size): # predict both orginal and reflect x\n",
    "    x_test_reflect =  np.array([np.fliplr(x) for x in x_test])\n",
    "    preds_test1 = model.predict(x_test,batch_size=batch_size).reshape(-1, img_size_target, img_size_target)\n",
    "    preds_test2_refect = model.predict(x_test_reflect,batch_size=batch_size).reshape(-1, img_size_target, img_size_target)\n",
    "    preds_test2 = np.array([ np.fliplr(x) for x in preds_test2_refect] )\n",
    "    preds_avg = (preds_test1 +preds_test2)/2\n",
    "    return preds_avg"
   ]
  },
  {
   "cell_type": "code",
   "execution_count": 29,
   "metadata": {},
   "outputs": [],
   "source": [
    "oof_fold = folds.loc[folds.fold == fold]"
   ]
  },
  {
   "cell_type": "code",
   "execution_count": 30,
   "metadata": {},
   "outputs": [],
   "source": [
    "oof_steps = math.ceil(len(oof_fold) / BATCH_SIZE)\n",
    "oof_gen = val_data_generator_sigmoid(oof_fold, masks, oof_steps, oof_steps, INPUT_SHAPE)"
   ]
  },
  {
   "cell_type": "code",
   "execution_count": 31,
   "metadata": {},
   "outputs": [],
   "source": [
    "oof_x, oof_y = next(oof_gen)"
   ]
  },
  {
   "cell_type": "code",
   "execution_count": 32,
   "metadata": {},
   "outputs": [
    {
     "name": "stdout",
     "output_type": "stream",
     "text": [
      "(2130, 384, 384, 1)\n"
     ]
    }
   ],
   "source": [
    "batch_size = 32\n",
    "preds_test1 = model.predict(oof_x,batch_size=batch_size)\n",
    "x_test_reflect =  np.array([np.fliplr(x) for x in oof_x])\n",
    "preds_test2_refect = model.predict(x_test_reflect,batch_size=batch_size)\n",
    "preds_test2 = np.array([ np.fliplr(x) for x in preds_test2_refect] )\n",
    "preds_avg = (preds_test1 +preds_test2)/2\n",
    "print(preds_avg.shape)"
   ]
  },
  {
   "cell_type": "code",
   "execution_count": 33,
   "metadata": {},
   "outputs": [],
   "source": [
    "# src: https://www.kaggle.com/aglotero/another-iou-metric\n",
    "def iou_metric(y_true_in, y_pred_in, print_table=False):\n",
    "    labels = y_true_in\n",
    "    y_pred = y_pred_in\n",
    "    \n",
    "    true_objects = 2\n",
    "    pred_objects = 2\n",
    "\n",
    "    intersection = np.histogram2d(labels.flatten(), y_pred.flatten(), bins=(true_objects, pred_objects))[0]\n",
    "\n",
    "    # Compute areas (needed for finding the union between all objects)\n",
    "    area_true = np.histogram(labels, bins = true_objects)[0]\n",
    "    area_pred = np.histogram(y_pred, bins = pred_objects)[0]\n",
    "    area_true = np.expand_dims(area_true, -1)\n",
    "    area_pred = np.expand_dims(area_pred, 0)\n",
    "\n",
    "    # Compute union\n",
    "    union = area_true + area_pred - intersection\n",
    "\n",
    "    # Exclude background from the analysis\n",
    "    intersection = intersection[1:,1:]\n",
    "    union = union[1:,1:]\n",
    "    union[union == 0] = 1e-9\n",
    "\n",
    "    # Compute the intersection over union\n",
    "    iou = intersection / union\n",
    "\n",
    "    # Precision helper function\n",
    "    def precision_at(threshold, iou):\n",
    "        matches = iou > threshold\n",
    "        true_positives = np.sum(matches, axis=1) == 1   # Correct objects\n",
    "        false_positives = np.sum(matches, axis=0) == 0  # Missed objects\n",
    "        false_negatives = np.sum(matches, axis=1) == 0  # Extra objects\n",
    "        tp, fp, fn = np.sum(true_positives), np.sum(false_positives), np.sum(false_negatives)\n",
    "        return tp, fp, fn\n",
    "\n",
    "    # Loop over IoU thresholds\n",
    "    prec = []\n",
    "    if print_table:\n",
    "        print(\"Thresh\\tTP\\tFP\\tFN\\tPrec.\")\n",
    "    for t in np.arange(0.5, 1.0, 0.05):\n",
    "        tp, fp, fn = precision_at(t, iou)\n",
    "        if (tp + fp + fn) > 0:\n",
    "            p = tp / (tp + fp + fn)\n",
    "        else:\n",
    "            p = 0\n",
    "        if print_table:\n",
    "            print(\"{:1.3f}\\t{}\\t{}\\t{}\\t{:1.3f}\".format(t, tp, fp, fn, p))\n",
    "        prec.append(p)\n",
    "    \n",
    "    if print_table:\n",
    "        print(\"AP\\t-\\t-\\t-\\t{:1.3f}\".format(np.mean(prec)))\n",
    "    return np.mean(prec)\n",
    "\n",
    "def iou_metric_batch(y_true_in, y_pred_in):\n",
    "    batch_size = y_true_in.shape[0]\n",
    "    metric = []\n",
    "    for batch in range(batch_size):\n",
    "        value = iou_metric(y_true_in[batch], y_pred_in[batch])\n",
    "        metric.append(value)\n",
    "    return np.mean(metric)"
   ]
  },
  {
   "cell_type": "code",
   "execution_count": 34,
   "metadata": {},
   "outputs": [
    {
     "data": {
      "application/vnd.jupyter.widget-view+json": {
       "model_id": "544c17d3651b400eb3ab181e4a566442",
       "version_major": 2,
       "version_minor": 0
      },
      "text/plain": [
       "HBox(children=(IntProgress(value=0, max=31), HTML(value='')))"
      ]
     },
     "metadata": {},
     "output_type": "display_data"
    },
    {
     "name": "stdout",
     "output_type": "stream",
     "text": [
      "\n"
     ]
    }
   ],
   "source": [
    "## Scoring for last model\n",
    "thresholds = np.linspace(0.4, 0.6, 21)\n",
    "ious = np.array([iou_metric_batch(oof_y, np.int32(preds_avg > threshold)) for threshold in tqdm_notebook(thresholds)])\n"
   ]
  },
  {
   "cell_type": "code",
   "execution_count": 35,
   "metadata": {},
   "outputs": [
    {
     "data": {
      "text/plain": [
       "<matplotlib.legend.Legend at 0x7f5161d7f5c0>"
      ]
     },
     "execution_count": 35,
     "metadata": {},
     "output_type": "execute_result"
    },
    {
     "data": {
      "image/png": "[encoded data removed]",
      "text/plain": [
       "<Figure size 432x288 with 1 Axes>"
      ]
     },
     "metadata": {},
     "output_type": "display_data"
    }
   ],
   "source": [
    "threshold_best_index = np.argmax(ious) \n",
    "iou_best = ious[threshold_best_index]\n",
    "threshold_best = thresholds[threshold_best_index]\n",
    "\n",
    "plt.plot(thresholds, ious)\n",
    "plt.plot(threshold_best, iou_best, \"xr\", label=\"Best threshold\")\n",
    "plt.xlabel(\"Threshold\")\n",
    "plt.ylabel(\"IoU\")\n",
    "plt.title(\"Threshold vs IoU ({}, {})\".format(threshold_best, iou_best))\n",
    "plt.legend()"
   ]
  },
  {
   "cell_type": "code",
   "execution_count": 36,
   "metadata": {},
   "outputs": [
    {
     "data": {
      "text/plain": [
       "5"
      ]
     },
     "execution_count": 36,
     "metadata": {},
     "output_type": "execute_result"
    }
   ],
   "source": [
    "del oof_x, oof_y,preds_avg\n",
    "gc.collect()"
   ]
  },
  {
   "cell_type": "code",
   "execution_count": 37,
   "metadata": {},
   "outputs": [],
   "source": [
    "test_df = pd.read_csv('../input/sample_submission_v2.csv')"
   ]
  },
  {
   "cell_type": "code",
   "execution_count": 38,
   "metadata": {},
   "outputs": [
    {
     "data": {
      "text/html": [
       "<div>\n",
       "<style scoped>\n",
       "    .dataframe tbody tr th:only-of-type {\n",
       "        vertical-align: middle;\n",
       "    }\n",
       "\n",
       "    .dataframe tbody tr th {\n",
       "        vertical-align: top;\n",
       "    }\n",
       "\n",
       "    .dataframe thead th {\n",
       "        text-align: right;\n",
       "    }\n",
       "</style>\n",
       "<table border=\"1\" class=\"dataframe\">\n",
       "  <thead>\n",
       "    <tr style=\"text-align: right;\">\n",
       "      <th></th>\n",
       "      <th>ImageId</th>\n",
       "      <th>EncodedPixels</th>\n",
       "    </tr>\n",
       "  </thead>\n",
       "  <tbody>\n",
       "    <tr>\n",
       "      <th>0</th>\n",
       "      <td>00002bd58.jpg</td>\n",
       "      <td>1 2</td>\n",
       "    </tr>\n",
       "    <tr>\n",
       "      <th>1</th>\n",
       "      <td>00015efb6.jpg</td>\n",
       "      <td>1 2</td>\n",
       "    </tr>\n",
       "    <tr>\n",
       "      <th>2</th>\n",
       "      <td>00023d5fc.jpg</td>\n",
       "      <td>1 2</td>\n",
       "    </tr>\n",
       "    <tr>\n",
       "      <th>3</th>\n",
       "      <td>000367c13.jpg</td>\n",
       "      <td>1 2</td>\n",
       "    </tr>\n",
       "    <tr>\n",
       "      <th>4</th>\n",
       "      <td>0008ca6e9.jpg</td>\n",
       "      <td>1 2</td>\n",
       "    </tr>\n",
       "  </tbody>\n",
       "</table>\n",
       "</div>"
      ],
      "text/plain": [
       "         ImageId EncodedPixels\n",
       "0  00002bd58.jpg           1 2\n",
       "1  00015efb6.jpg           1 2\n",
       "2  00023d5fc.jpg           1 2\n",
       "3  000367c13.jpg           1 2\n",
       "4  0008ca6e9.jpg           1 2"
      ]
     },
     "execution_count": 38,
     "metadata": {},
     "output_type": "execute_result"
    }
   ],
   "source": [
    "test_df.head()"
   ]
  },
  {
   "cell_type": "code",
   "execution_count": 39,
   "metadata": {},
   "outputs": [],
   "source": [
    "batch_size = 32\n",
    "preds_test = []\n",
    "\n",
    "inputs = []\n",
    "outputs = []\n",
    "step_id = 0\n",
    "for idx, row in test_df.iterrows():\n",
    "    img_id = row.ImageId\n",
    "    imgpath = os.path.join('../input/test_v2/', '{0}'.format(img_id))\n",
    "\n",
    "    img = cv2.imread(imgpath, cv2.IMREAD_COLOR)\n",
    "    img = cv2.resize(img, INPUT_SHAPE)\n",
    "    inputs.append(img)\n",
    "inputs = np.asarray(inputs)\n",
    "    "
   ]
  },
  {
   "cell_type": "code",
   "execution_count": 40,
   "metadata": {},
   "outputs": [
    {
     "name": "stdout",
     "output_type": "stream",
     "text": [
      "predict orignal test\n",
      "predict flip left-right test\n",
      "predict flip up-down\n"
     ]
    }
   ],
   "source": [
    "batch_size = 32\n",
    "print('predict orignal test')\n",
    "preds_test1 = model.predict(inputs,batch_size=batch_size)\n",
    "\n",
    "print('predict flip left-right test')\n",
    "x_test_reflect =  np.array([np.fliplr(x) for x in inputs])\n",
    "preds_test2_refect = model.predict(x_test_reflect,batch_size=batch_size)\n",
    "preds_test2 = np.array([ np.fliplr(x) for x in preds_test2_refect] )\n",
    "\n",
    "print('predict flip up-down')\n",
    "x_test_ud =  np.array([np.flipud(x) for x in inputs])\n",
    "preds_test3_refect = model.predict(x_test_ud,batch_size=batch_size)\n",
    "preds_test3 = np.array([ np.flipud(x) for x in preds_test3_refect] )\n",
    "\n",
    "preds_avg = (preds_test1 +preds_test2 + preds_test3) / 3"
   ]
  },
  {
   "cell_type": "code",
   "execution_count": 41,
   "metadata": {},
   "outputs": [
    {
     "data": {
      "text/plain": [
       "(15606, 384, 384, 1)"
      ]
     },
     "execution_count": 41,
     "metadata": {},
     "output_type": "execute_result"
    }
   ],
   "source": [
    "preds_avg.shape"
   ]
  },
  {
   "cell_type": "code",
   "execution_count": 42,
   "metadata": {},
   "outputs": [],
   "source": [
    "preds_bool = (preds_avg > threshold_best ) * 1"
   ]
  },
  {
   "cell_type": "code",
   "execution_count": 43,
   "metadata": {},
   "outputs": [],
   "source": [
    "def rle_encode(im):\n",
    "    '''\n",
    "    im: numpy array, 1 - mask, 0 - background\n",
    "    Returns run length as string formated\n",
    "    '''\n",
    "    pixels = im.flatten(order = 'F')\n",
    "    pixels = np.concatenate([[0], pixels, [0]])\n",
    "    runs = np.where(pixels[1:] != pixels[:-1])[0] + 1\n",
    "    runs[1::2] -= runs[::2]\n",
    "    return ' '.join(str(x) for x in runs)"
   ]
  },
  {
   "cell_type": "code",
   "execution_count": 44,
   "metadata": {},
   "outputs": [
    {
     "data": {
      "text/plain": [
       "(15606, 384, 384, 1)"
      ]
     },
     "execution_count": 44,
     "metadata": {},
     "output_type": "execute_result"
    }
   ],
   "source": [
    "preds_bool.shape"
   ]
  },
  {
   "cell_type": "code",
   "execution_count": 45,
   "metadata": {
    "scrolled": true
   },
   "outputs": [
    {
     "data": {
      "application/vnd.jupyter.widget-view+json": {
       "model_id": "877354fa097946e2955da1aa94886a0f",
       "version_major": 2,
       "version_minor": 0
      },
      "text/plain": [
       "HBox(children=(IntProgress(value=0, max=15606), HTML(value='')))"
      ]
     },
     "metadata": {},
     "output_type": "display_data"
    },
    {
     "name": "stdout",
     "output_type": "stream",
     "text": [
      "\n"
     ]
    }
   ],
   "source": [
    "for i in tqdm_notebook(range(preds_bool.shape[0])):\n",
    "    rle = ''\n",
    "    if(preds_bool[i].max() > 0):\n",
    "        #plt.imshow(preds_bool[i].squeeze())\n",
    "        pre = preds_bool[i].astype(np.float).squeeze()\n",
    "        ori_pred = ((cv2.resize(pre, (768,768)) > 0.5) * 1).astype(np.uint8)\n",
    "        rle = rle_encode(ori_pred)\n",
    "\n",
    "    test_df.iloc[i, 1] = rle"
   ]
  },
  {
   "cell_type": "code",
   "execution_count": 46,
   "metadata": {},
   "outputs": [],
   "source": [
    "test_df.to_csv('../result/XUnet256_0.csv', index=False)\n",
    "one_result = test_df"
   ]
  },
  {
   "cell_type": "code",
   "execution_count": 47,
   "metadata": {},
   "outputs": [],
   "source": [
    "ship_detect = pd.read_csv('../result/ship_detection.csv')\n",
    "ship_detect.rename({'id':'ImageId'}, axis = 1, inplace = True)\n",
    "df_all = pd.merge(one_result, ship_detect, on='ImageId', how='left')\n",
    "df_all.fillna('', inplace=True)"
   ]
  },
  {
   "cell_type": "code",
   "execution_count": 48,
   "metadata": {},
   "outputs": [],
   "source": [
    "def split_mask(mask):\n",
    "    threshold = 0.5\n",
    "    threshold_obj = 0 #ignor predictions composed of \"threshold_obj\" pixels or less\n",
    "    labled,n_objs = ndimage.label(mask)\n",
    "    result = []\n",
    "    for i in range(n_objs):\n",
    "        obj = (labled == i + 1).astype(int)\n",
    "        if(obj.sum() > threshold_obj): result.append(obj)\n",
    "    return result\n",
    "\n",
    "def decode_mask(mask, shape=(768, 768)):\n",
    "    pixels = mask.T.flatten()\n",
    "    pixels = np.concatenate([[0], pixels, [0]])\n",
    "    runs = np.where(pixels[1:] != pixels[:-1])[0] + 1\n",
    "    runs[1::2] -= runs[::2]\n",
    "    return ' '.join(str(x) for x in runs)"
   ]
  },
  {
   "cell_type": "code",
   "execution_count": 49,
   "metadata": {},
   "outputs": [],
   "source": [
    "one_result.fillna('', inplace=True)"
   ]
  },
  {
   "cell_type": "code",
   "execution_count": 50,
   "metadata": {},
   "outputs": [],
   "source": [
    "from scipy import ndimage\n",
    "def get_mask(encodepixel):\n",
    "    shape = (768,768)\n",
    "    img = np.zeros(shape[0]*shape[1], dtype=np.uint8)\n",
    "    masks = encodepixel\n",
    "    \n",
    "#     print(img_id, masks)\n",
    "    \n",
    "    if(type(masks.iloc[0]) == float): return img.reshape(shape)\n",
    "    for mask in masks:\n",
    "        s = mask.split()\n",
    "        for i in range(len(s)//2):\n",
    "            start = int(s[2*i]) - 1\n",
    "            length = int(s[2*i+1])\n",
    "            img[start:start+length] = 1\n",
    "    return img.reshape(shape).T"
   ]
  },
  {
   "cell_type": "code",
   "execution_count": 51,
   "metadata": {},
   "outputs": [
    {
     "data": {
      "application/vnd.jupyter.widget-view+json": {
       "model_id": "1813b725e09b404994f17ab8f92d1377",
       "version_major": 2,
       "version_minor": 0
      },
      "text/plain": [
       "HBox(children=(IntProgress(value=1, bar_style='info', max=1), HTML(value='')))"
      ]
     },
     "metadata": {},
     "output_type": "display_data"
    },
    {
     "name": "stdout",
     "output_type": "stream",
     "text": [
      "\n"
     ]
    }
   ],
   "source": [
    "new_result = pd.DataFrame(columns=one_result.columns)\n",
    "cnt = 0\n",
    "for idx, row in tqdm_notebook(one_result.iterrows()):\n",
    "    if len(row.EncodedPixels) == 0:\n",
    "        new_result = new_result.append(row, ignore_index=True)\n",
    "    else:\n",
    "        mask = get_mask(one_result.loc[one_result.ImageId == row.ImageId, 'EncodedPixels'])\n",
    "        results = split_mask(mask)\n",
    "        \n",
    "        for msk in results:\n",
    "            new_result = new_result.append({'ImageId':row.ImageId, 'EncodedPixels': decode_mask(msk)}, ignore_index=True)\n",
    "#         cnt += 1\n",
    "#         if cnt > 10:\n",
    "#             break"
   ]
  },
  {
   "cell_type": "code",
   "execution_count": 53,
   "metadata": {},
   "outputs": [
    {
     "name": "stdout",
     "output_type": "stream",
     "text": [
      "save result\n",
      "upload result\n",
      "cmd: kaggle competitions submit -c airbus-ship-detection -f ../result/XUnet384_split.csv.7z -m \"submit\"\n"
     ]
    }
   ],
   "source": [
    "kaggle_util.save_result(new_result, '../result/XUnet384_split.csv', competition = 'airbus-ship-detection', send = True, index = False)"
   ]
  },
  {
   "cell_type": "code",
   "execution_count": null,
   "metadata": {},
   "outputs": [],
   "source": []
  }
 ],
 "metadata": {
  "kernelspec": {
   "display_name": "Python 3",
   "language": "python",
   "name": "python3"
  },
  "language_info": {
   "codemirror_mode": {
    "name": "ipython",
    "version": 3
   },
   "file_extension": ".py",
   "mimetype": "text/x-python",
   "name": "python",
   "nbconvert_exporter": "python",
   "pygments_lexer": "ipython3",
   "version": "3.6.5"
  }
 },
 "nbformat": 4,
 "nbformat_minor": 2
}
