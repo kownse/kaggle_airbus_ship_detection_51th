{
 "cells": [
  {
   "cell_type": "code",
   "execution_count": 1,
   "metadata": {},
   "outputs": [],
   "source": [
    "import pandas as pd"
   ]
  },
  {
   "cell_type": "code",
   "execution_count": 4,
   "metadata": {},
   "outputs": [],
   "source": [
    "preds = None\n",
    "for i in range(5):\n",
    "    pre = pd.read_csv('../result/ship_detection_fold{}.csv'.format(i))\n",
    "    if preds is None:\n",
    "        preds = pre\n",
    "    else:\n",
    "        preds.p_ship += pre.p_ship"
   ]
  },
  {
   "cell_type": "code",
   "execution_count": 6,
   "metadata": {},
   "outputs": [],
   "source": [
    "preds.p_ship /= 5"
   ]
  },
  {
   "cell_type": "code",
   "execution_count": 7,
   "metadata": {},
   "outputs": [
    {
     "data": {
      "text/html": [
       "<div>\n",
       "<style scoped>\n",
       "    .dataframe tbody tr th:only-of-type {\n",
       "        vertical-align: middle;\n",
       "    }\n",
       "\n",
       "    .dataframe tbody tr th {\n",
       "        vertical-align: top;\n",
       "    }\n",
       "\n",
       "    .dataframe thead th {\n",
       "        text-align: right;\n",
       "    }\n",
       "</style>\n",
       "<table border=\"1\" class=\"dataframe\">\n",
       "  <thead>\n",
       "    <tr style=\"text-align: right;\">\n",
       "      <th></th>\n",
       "      <th>id</th>\n",
       "      <th>p_ship</th>\n",
       "    </tr>\n",
       "  </thead>\n",
       "  <tbody>\n",
       "    <tr>\n",
       "      <th>0</th>\n",
       "      <td>00002bd58.jpg</td>\n",
       "      <td>0.007915</td>\n",
       "    </tr>\n",
       "    <tr>\n",
       "      <th>1</th>\n",
       "      <td>00015efb6.jpg</td>\n",
       "      <td>0.000966</td>\n",
       "    </tr>\n",
       "    <tr>\n",
       "      <th>2</th>\n",
       "      <td>00023d5fc.jpg</td>\n",
       "      <td>0.011728</td>\n",
       "    </tr>\n",
       "    <tr>\n",
       "      <th>3</th>\n",
       "      <td>000367c13.jpg</td>\n",
       "      <td>0.953126</td>\n",
       "    </tr>\n",
       "    <tr>\n",
       "      <th>4</th>\n",
       "      <td>0008ca6e9.jpg</td>\n",
       "      <td>0.001033</td>\n",
       "    </tr>\n",
       "  </tbody>\n",
       "</table>\n",
       "</div>"
      ],
      "text/plain": [
       "              id    p_ship\n",
       "0  00002bd58.jpg  0.007915\n",
       "1  00015efb6.jpg  0.000966\n",
       "2  00023d5fc.jpg  0.011728\n",
       "3  000367c13.jpg  0.953126\n",
       "4  0008ca6e9.jpg  0.001033"
      ]
     },
     "execution_count": 7,
     "metadata": {},
     "output_type": "execute_result"
    }
   ],
   "source": [
    "preds.head()"
   ]
  },
  {
   "cell_type": "code",
   "execution_count": 8,
   "metadata": {},
   "outputs": [],
   "source": [
    "preds.to_csv('../result/ship_detection_mean.csv')"
   ]
  },
  {
   "cell_type": "code",
   "execution_count": 14,
   "metadata": {},
   "outputs": [],
   "source": [
    "pred = pd.read_csv('../result/ship_detection.csv')\n",
    "pred_mean = pd.read_csv('../result/ship_detection_mean.csv')"
   ]
  },
  {
   "cell_type": "code",
   "execution_count": 16,
   "metadata": {},
   "outputs": [],
   "source": [
    "pred['mean'] = pred_mean.p_ship\n",
    "pred['final'] = pred.p_ship"
   ]
  },
  {
   "cell_type": "code",
   "execution_count": 28,
   "metadata": {},
   "outputs": [
    {
     "data": {
      "text/html": [
       "<div>\n",
       "<style scoped>\n",
       "    .dataframe tbody tr th:only-of-type {\n",
       "        vertical-align: middle;\n",
       "    }\n",
       "\n",
       "    .dataframe tbody tr th {\n",
       "        vertical-align: top;\n",
       "    }\n",
       "\n",
       "    .dataframe thead th {\n",
       "        text-align: right;\n",
       "    }\n",
       "</style>\n",
       "<table border=\"1\" class=\"dataframe\">\n",
       "  <thead>\n",
       "    <tr style=\"text-align: right;\">\n",
       "      <th></th>\n",
       "      <th>id</th>\n",
       "      <th>p_ship</th>\n",
       "      <th>mean</th>\n",
       "      <th>final</th>\n",
       "    </tr>\n",
       "  </thead>\n",
       "  <tbody>\n",
       "    <tr>\n",
       "      <th>409</th>\n",
       "      <td>8d483c31f.jpg</td>\n",
       "      <td>0.407183</td>\n",
       "      <td>0.537710</td>\n",
       "      <td>0.6</td>\n",
       "    </tr>\n",
       "    <tr>\n",
       "      <th>473</th>\n",
       "      <td>a59eaa0f1.jpg</td>\n",
       "      <td>0.255199</td>\n",
       "      <td>0.561691</td>\n",
       "      <td>0.6</td>\n",
       "    </tr>\n",
       "    <tr>\n",
       "      <th>916</th>\n",
       "      <td>81962f5ae.jpg</td>\n",
       "      <td>0.224361</td>\n",
       "      <td>0.604834</td>\n",
       "      <td>0.6</td>\n",
       "    </tr>\n",
       "    <tr>\n",
       "      <th>1107</th>\n",
       "      <td>35a657a3a.jpg</td>\n",
       "      <td>0.405739</td>\n",
       "      <td>0.641701</td>\n",
       "      <td>0.6</td>\n",
       "    </tr>\n",
       "    <tr>\n",
       "      <th>2439</th>\n",
       "      <td>e9363728a.jpg</td>\n",
       "      <td>0.455220</td>\n",
       "      <td>0.821422</td>\n",
       "      <td>0.6</td>\n",
       "    </tr>\n",
       "    <tr>\n",
       "      <th>2614</th>\n",
       "      <td>47c132c5d.jpg</td>\n",
       "      <td>0.412942</td>\n",
       "      <td>0.604109</td>\n",
       "      <td>0.6</td>\n",
       "    </tr>\n",
       "    <tr>\n",
       "      <th>2867</th>\n",
       "      <td>c7307bce1.jpg</td>\n",
       "      <td>0.241031</td>\n",
       "      <td>0.592201</td>\n",
       "      <td>0.6</td>\n",
       "    </tr>\n",
       "    <tr>\n",
       "      <th>3060</th>\n",
       "      <td>606254c63.jpg</td>\n",
       "      <td>0.498618</td>\n",
       "      <td>0.627426</td>\n",
       "      <td>0.6</td>\n",
       "    </tr>\n",
       "    <tr>\n",
       "      <th>3614</th>\n",
       "      <td>05ab1a8f5.jpg</td>\n",
       "      <td>0.327764</td>\n",
       "      <td>0.585277</td>\n",
       "      <td>0.6</td>\n",
       "    </tr>\n",
       "    <tr>\n",
       "      <th>3743</th>\n",
       "      <td>369d42002.jpg</td>\n",
       "      <td>0.302593</td>\n",
       "      <td>0.552607</td>\n",
       "      <td>0.6</td>\n",
       "    </tr>\n",
       "    <tr>\n",
       "      <th>3885</th>\n",
       "      <td>a18d65ba0.jpg</td>\n",
       "      <td>0.248408</td>\n",
       "      <td>0.520058</td>\n",
       "      <td>0.6</td>\n",
       "    </tr>\n",
       "    <tr>\n",
       "      <th>4364</th>\n",
       "      <td>eb6b1fabc.jpg</td>\n",
       "      <td>0.490636</td>\n",
       "      <td>0.525782</td>\n",
       "      <td>0.6</td>\n",
       "    </tr>\n",
       "    <tr>\n",
       "      <th>4371</th>\n",
       "      <td>eb8005d35.jpg</td>\n",
       "      <td>0.454054</td>\n",
       "      <td>0.673248</td>\n",
       "      <td>0.6</td>\n",
       "    </tr>\n",
       "    <tr>\n",
       "      <th>5691</th>\n",
       "      <td>a9c41e852.jpg</td>\n",
       "      <td>0.499550</td>\n",
       "      <td>0.599836</td>\n",
       "      <td>0.6</td>\n",
       "    </tr>\n",
       "    <tr>\n",
       "      <th>6252</th>\n",
       "      <td>70450ea27.jpg</td>\n",
       "      <td>0.210580</td>\n",
       "      <td>0.672658</td>\n",
       "      <td>0.6</td>\n",
       "    </tr>\n",
       "    <tr>\n",
       "      <th>6789</th>\n",
       "      <td>d10fadcbd.jpg</td>\n",
       "      <td>0.484603</td>\n",
       "      <td>0.657465</td>\n",
       "      <td>0.6</td>\n",
       "    </tr>\n",
       "    <tr>\n",
       "      <th>7068</th>\n",
       "      <td>50a3a11b6.jpg</td>\n",
       "      <td>0.363088</td>\n",
       "      <td>0.622136</td>\n",
       "      <td>0.6</td>\n",
       "    </tr>\n",
       "    <tr>\n",
       "      <th>7497</th>\n",
       "      <td>17ccafed3.jpg</td>\n",
       "      <td>0.303444</td>\n",
       "      <td>0.655352</td>\n",
       "      <td>0.6</td>\n",
       "    </tr>\n",
       "    <tr>\n",
       "      <th>7716</th>\n",
       "      <td>020cb7b89.jpg</td>\n",
       "      <td>0.242239</td>\n",
       "      <td>0.535109</td>\n",
       "      <td>0.6</td>\n",
       "    </tr>\n",
       "    <tr>\n",
       "      <th>8188</th>\n",
       "      <td>37e92013b.jpg</td>\n",
       "      <td>0.414157</td>\n",
       "      <td>0.534740</td>\n",
       "      <td>0.6</td>\n",
       "    </tr>\n",
       "    <tr>\n",
       "      <th>8398</th>\n",
       "      <td>f2e2414a4.jpg</td>\n",
       "      <td>0.417879</td>\n",
       "      <td>0.559170</td>\n",
       "      <td>0.6</td>\n",
       "    </tr>\n",
       "    <tr>\n",
       "      <th>8489</th>\n",
       "      <td>fa5ea2e1c.jpg</td>\n",
       "      <td>0.476032</td>\n",
       "      <td>0.567046</td>\n",
       "      <td>0.6</td>\n",
       "    </tr>\n",
       "    <tr>\n",
       "      <th>8734</th>\n",
       "      <td>72e38befe.jpg</td>\n",
       "      <td>0.314117</td>\n",
       "      <td>0.703963</td>\n",
       "      <td>0.6</td>\n",
       "    </tr>\n",
       "    <tr>\n",
       "      <th>10784</th>\n",
       "      <td>0435d1844.jpg</td>\n",
       "      <td>0.417094</td>\n",
       "      <td>0.592166</td>\n",
       "      <td>0.6</td>\n",
       "    </tr>\n",
       "    <tr>\n",
       "      <th>11419</th>\n",
       "      <td>cb02a34c9.jpg</td>\n",
       "      <td>0.263061</td>\n",
       "      <td>0.783160</td>\n",
       "      <td>0.6</td>\n",
       "    </tr>\n",
       "    <tr>\n",
       "      <th>11840</th>\n",
       "      <td>4155526b4.jpg</td>\n",
       "      <td>0.481069</td>\n",
       "      <td>0.566981</td>\n",
       "      <td>0.6</td>\n",
       "    </tr>\n",
       "    <tr>\n",
       "      <th>12321</th>\n",
       "      <td>8c0727d1c.jpg</td>\n",
       "      <td>0.322169</td>\n",
       "      <td>0.563506</td>\n",
       "      <td>0.6</td>\n",
       "    </tr>\n",
       "    <tr>\n",
       "      <th>12575</th>\n",
       "      <td>fd2fee9ad.jpg</td>\n",
       "      <td>0.469494</td>\n",
       "      <td>0.512666</td>\n",
       "      <td>0.6</td>\n",
       "    </tr>\n",
       "    <tr>\n",
       "      <th>12616</th>\n",
       "      <td>8a89e6496.jpg</td>\n",
       "      <td>0.381808</td>\n",
       "      <td>0.535102</td>\n",
       "      <td>0.6</td>\n",
       "    </tr>\n",
       "    <tr>\n",
       "      <th>12953</th>\n",
       "      <td>d2bd5513f.jpg</td>\n",
       "      <td>0.275238</td>\n",
       "      <td>0.634186</td>\n",
       "      <td>0.6</td>\n",
       "    </tr>\n",
       "    <tr>\n",
       "      <th>13208</th>\n",
       "      <td>10a2be1bb.jpg</td>\n",
       "      <td>0.426520</td>\n",
       "      <td>0.517807</td>\n",
       "      <td>0.6</td>\n",
       "    </tr>\n",
       "    <tr>\n",
       "      <th>13352</th>\n",
       "      <td>6c8983b68.jpg</td>\n",
       "      <td>0.260154</td>\n",
       "      <td>0.597408</td>\n",
       "      <td>0.6</td>\n",
       "    </tr>\n",
       "    <tr>\n",
       "      <th>14155</th>\n",
       "      <td>ca1a3779c.jpg</td>\n",
       "      <td>0.235650</td>\n",
       "      <td>0.530068</td>\n",
       "      <td>0.6</td>\n",
       "    </tr>\n",
       "    <tr>\n",
       "      <th>15424</th>\n",
       "      <td>9a4bd1f39.jpg</td>\n",
       "      <td>0.034367</td>\n",
       "      <td>0.692171</td>\n",
       "      <td>0.6</td>\n",
       "    </tr>\n",
       "  </tbody>\n",
       "</table>\n",
       "</div>"
      ],
      "text/plain": [
       "                  id    p_ship      mean  final\n",
       "409    8d483c31f.jpg  0.407183  0.537710    0.6\n",
       "473    a59eaa0f1.jpg  0.255199  0.561691    0.6\n",
       "916    81962f5ae.jpg  0.224361  0.604834    0.6\n",
       "1107   35a657a3a.jpg  0.405739  0.641701    0.6\n",
       "2439   e9363728a.jpg  0.455220  0.821422    0.6\n",
       "2614   47c132c5d.jpg  0.412942  0.604109    0.6\n",
       "2867   c7307bce1.jpg  0.241031  0.592201    0.6\n",
       "3060   606254c63.jpg  0.498618  0.627426    0.6\n",
       "3614   05ab1a8f5.jpg  0.327764  0.585277    0.6\n",
       "3743   369d42002.jpg  0.302593  0.552607    0.6\n",
       "3885   a18d65ba0.jpg  0.248408  0.520058    0.6\n",
       "4364   eb6b1fabc.jpg  0.490636  0.525782    0.6\n",
       "4371   eb8005d35.jpg  0.454054  0.673248    0.6\n",
       "5691   a9c41e852.jpg  0.499550  0.599836    0.6\n",
       "6252   70450ea27.jpg  0.210580  0.672658    0.6\n",
       "6789   d10fadcbd.jpg  0.484603  0.657465    0.6\n",
       "7068   50a3a11b6.jpg  0.363088  0.622136    0.6\n",
       "7497   17ccafed3.jpg  0.303444  0.655352    0.6\n",
       "7716   020cb7b89.jpg  0.242239  0.535109    0.6\n",
       "8188   37e92013b.jpg  0.414157  0.534740    0.6\n",
       "8398   f2e2414a4.jpg  0.417879  0.559170    0.6\n",
       "8489   fa5ea2e1c.jpg  0.476032  0.567046    0.6\n",
       "8734   72e38befe.jpg  0.314117  0.703963    0.6\n",
       "10784  0435d1844.jpg  0.417094  0.592166    0.6\n",
       "11419  cb02a34c9.jpg  0.263061  0.783160    0.6\n",
       "11840  4155526b4.jpg  0.481069  0.566981    0.6\n",
       "12321  8c0727d1c.jpg  0.322169  0.563506    0.6\n",
       "12575  fd2fee9ad.jpg  0.469494  0.512666    0.6\n",
       "12616  8a89e6496.jpg  0.381808  0.535102    0.6\n",
       "12953  d2bd5513f.jpg  0.275238  0.634186    0.6\n",
       "13208  10a2be1bb.jpg  0.426520  0.517807    0.6\n",
       "13352  6c8983b68.jpg  0.260154  0.597408    0.6\n",
       "14155  ca1a3779c.jpg  0.235650  0.530068    0.6\n",
       "15424  9a4bd1f39.jpg  0.034367  0.692171    0.6"
      ]
     },
     "execution_count": 28,
     "metadata": {},
     "output_type": "execute_result"
    }
   ],
   "source": [
    "pred.loc[(pred['mean'] > 0.5) & (pred.p_ship < 0.5)]"
   ]
  },
  {
   "cell_type": "code",
   "execution_count": 7,
   "metadata": {},
   "outputs": [
    {
     "data": {
      "text/plain": [
       "(163, 3)"
      ]
     },
     "execution_count": 7,
     "metadata": {},
     "output_type": "execute_result"
    }
   ],
   "source": [
    "pred.loc[(pred['mean'] < 0.5) & (pred.p_ship > 0.5)].shape"
   ]
  },
  {
   "cell_type": "code",
   "execution_count": 11,
   "metadata": {},
   "outputs": [
    {
     "data": {
      "text/plain": [
       "0    12484\n",
       "1     3122\n",
       "Name: final, dtype: int64"
      ]
     },
     "execution_count": 11,
     "metadata": {},
     "output_type": "execute_result"
    }
   ],
   "source": [
    "pred.final.value_counts()"
   ]
  },
  {
   "cell_type": "code",
   "execution_count": 31,
   "metadata": {},
   "outputs": [],
   "source": [
    "pred['p_ship'] = pred.final"
   ]
  },
  {
   "cell_type": "code",
   "execution_count": 29,
   "metadata": {},
   "outputs": [
    {
     "data": {
      "text/plain": [
       "3122"
      ]
     },
     "execution_count": 29,
     "metadata": {},
     "output_type": "execute_result"
    }
   ],
   "source": [
    "(pred.final > 0.5).sum()"
   ]
  },
  {
   "cell_type": "code",
   "execution_count": 32,
   "metadata": {},
   "outputs": [
    {
     "data": {
      "text/plain": [
       "3122"
      ]
     },
     "execution_count": 32,
     "metadata": {},
     "output_type": "execute_result"
    }
   ],
   "source": [
    "(pred.p_ship > 0.5).sum()"
   ]
  },
  {
   "cell_type": "code",
   "execution_count": 34,
   "metadata": {},
   "outputs": [],
   "source": [
    "pred[['id', 'p_ship']].to_csv('../result/ship_detection_ensemble.csv', index = False)"
   ]
  },
  {
   "cell_type": "code",
   "execution_count": null,
   "metadata": {},
   "outputs": [],
   "source": []
  }
 ],
 "metadata": {
  "kernelspec": {
   "display_name": "Python 3",
   "language": "python",
   "name": "python3"
  },
  "language_info": {
   "codemirror_mode": {
    "name": "ipython",
    "version": 3
   },
   "file_extension": ".py",
   "mimetype": "text/x-python",
   "name": "python",
   "nbconvert_exporter": "python",
   "pygments_lexer": "ipython3",
   "version": "3.6.5"
  }
 },
 "nbformat": 4,
 "nbformat_minor": 2
}
