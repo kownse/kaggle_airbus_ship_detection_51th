{
 "cells": [
  {
   "cell_type": "code",
   "execution_count": 1,
   "metadata": {},
   "outputs": [
    {
     "name": "stderr",
     "output_type": "stream",
     "text": [
      "Using TensorFlow backend.\n"
     ]
    }
   ],
   "source": [
    "import pandas as pd\n",
    "import numpy as np\n",
    "from tqdm import tqdm_notebook\n",
    "import kaggle_util\n",
    "from ship_mrcnn import *\n",
    "\n",
    "%matplotlib inline"
   ]
  },
  {
   "cell_type": "code",
   "execution_count": 2,
   "metadata": {},
   "outputs": [],
   "source": [
    "def calc_area_stat(df):\n",
    "    df.fillna('', inplace=True)\n",
    "    df['split'] = df['EncodedPixels'].str.split()\n",
    "    df['area'] = df['split'].apply(lambda x:sum([int(x[i + 1]) for i in range(0, len(x), 2)]))\n",
    "    df.drop('split', axis=1, inplace=True)\n",
    "    grouped = df.groupby('ImageId')['area']\n",
    "    area_agg = grouped.agg(['mean','std','max','min','median'])\n",
    "    area_agg['kurt'] = grouped.apply(pd.DataFrame.kurtosis)\n",
    "    area_agg['skew'] = grouped.apply(pd.DataFrame.skew)\n",
    "\n",
    "    df['hasship'] = df.area > 0\n",
    "    ship_cnts = df.groupby('ImageId')['hasship'].agg('sum')\n",
    "    area_agg['cnt'] = ship_cnts\n",
    "    area_agg.fillna(0, inplace = True)\n",
    "    area_agg = area_agg.reset_index()\n",
    "    return area_agg"
   ]
  },
  {
   "cell_type": "code",
   "execution_count": 6,
   "metadata": {},
   "outputs": [],
   "source": [
    "suball = pd.read_csv('../result/scored_all_0.600.csv')\n",
    "area_stat = calc_area_stat(suball)\n",
    "area_stat.head()"
   ]
  },
  {
   "cell_type": "code",
   "execution_count": 8,
   "metadata": {},
   "outputs": [],
   "source": [
    "area_stat.to_csv('../result/suball_area_stat.csv', index=False)"
   ]
  },
  {
   "cell_type": "code",
   "execution_count": null,
   "metadata": {},
   "outputs": [],
   "source": [
    "oof = pd.read_csv('../result/oof_coco_ship_.csv')\n",
    "oof_stat = calc_area_stat(oof)\n",
    "oof_stat.head()"
   ]
  },
  {
   "cell_type": "code",
   "execution_count": 10,
   "metadata": {},
   "outputs": [],
   "source": [
    "L = 1.01\n",
    "N = 10000\n",
    "C = 0.3\n",
    "M = 0.44"
   ]
  },
  {
   "cell_type": "code",
   "execution_count": 16,
   "metadata": {},
   "outputs": [
    {
     "data": {
      "text/plain": [
       "0.7710689317245613"
      ]
     },
     "execution_count": 16,
     "metadata": {},
     "output_type": "execute_result"
    }
   ],
   "source": [
    "import math\n",
    "(-L - math.log(1-C))/(math.log(C) - math.log(1-C))"
   ]
  },
  {
   "cell_type": "code",
   "execution_count": null,
   "metadata": {},
   "outputs": [],
   "source": []
  }
 ],
 "metadata": {
  "kernelspec": {
   "display_name": "Python 3",
   "language": "python",
   "name": "python3"
  },
  "language_info": {
   "codemirror_mode": {
    "name": "ipython",
    "version": 3
   },
   "file_extension": ".py",
   "mimetype": "text/x-python",
   "name": "python",
   "nbconvert_exporter": "python",
   "pygments_lexer": "ipython3",
   "version": "3.6.5"
  }
 },
 "nbformat": 4,
 "nbformat_minor": 2
}
