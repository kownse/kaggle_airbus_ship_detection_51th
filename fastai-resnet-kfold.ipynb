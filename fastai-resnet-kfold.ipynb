{
 "cells": [
  {
   "cell_type": "code",
   "execution_count": 1,
   "metadata": {},
   "outputs": [
    {
     "name": "stderr",
     "output_type": "stream",
     "text": [
      "/home/kownse/anaconda3/lib/python3.6/site-packages/sklearn/ensemble/weight_boosting.py:29: DeprecationWarning: numpy.core.umath_tests is an internal NumPy module and should not be imported. It will be removed in a future NumPy release.\n",
      "  from numpy.core.umath_tests import inner1d\n"
     ]
    }
   ],
   "source": [
    "from fastai.conv_learner import *\n",
    "from fastai.dataset import *\n",
    "\n",
    "import pandas as pd\n",
    "import numpy as np\n",
    "import os\n",
    "from sklearn.model_selection import train_test_split\n",
    "\n",
    "import torch as th\n",
    "th.cuda.set_device(1)"
   ]
  },
  {
   "cell_type": "code",
   "execution_count": 2,
   "metadata": {},
   "outputs": [],
   "source": [
    "PATH = './'\n",
    "TRAIN = '../input/train_v2/'\n",
    "TEST = '../input/test_v2/'\n",
    "SEGMENTATION = '../input/train_ship_segmentations_v2.csv.zip'\n",
    "exclude_list = ['6384c3e78.jpg','13703f040.jpg', '14715c06d.jpg',  '33e0ff2d5.jpg',\n",
    "                '4d4e09f2a.jpg', '877691df8.jpg', '8b909bb20.jpg', 'a8d99130e.jpg', \n",
    "                'ad55c3143.jpg', 'c8260c541.jpg', 'd6c7f17c7.jpg', 'dc3e7c901.jpg',\n",
    "                'e44dffe88.jpg', 'ef87bad36.jpg', 'f083256d8.jpg'] #corrupted image"
   ]
  },
  {
   "cell_type": "code",
   "execution_count": 3,
   "metadata": {},
   "outputs": [],
   "source": [
    "test_names = [f for f in os.listdir(TEST)]\n",
    "for el in exclude_list:\n",
    "    if(el in test_names): test_names.remove(el)"
   ]
  },
  {
   "cell_type": "code",
   "execution_count": 4,
   "metadata": {},
   "outputs": [],
   "source": [
    "class pdFilesDataset(FilesDataset):\n",
    "    def __init__(self, fnames, path, transform):\n",
    "        self.segmentation_df = pd.read_csv(SEGMENTATION).set_index('ImageId')\n",
    "        super().__init__(fnames, transform, path)\n",
    "    \n",
    "    def get_x(self, i):\n",
    "        img = open_image(os.path.join(self.path, self.fnames[i]))\n",
    "        if self.sz == 768: return img \n",
    "        else: return cv2.resize(img, (self.sz, self.sz))\n",
    "    \n",
    "    def get_y(self, i):\n",
    "        if(self.path == TEST): return 0\n",
    "        masks = self.segmentation_df.loc[self.fnames[i]]['EncodedPixels']\n",
    "        if(type(masks) == float): return 0 #NAN - no ship \n",
    "        else: return 1\n",
    "    \n",
    "    def get_c(self): return 2 #number of classes\n",
    "    \n",
    "def get_data(sz,bs, tr_n, val_n):\n",
    "    #data augmentation\n",
    "    aug_tfms = [RandomRotate(20, tfm_y=TfmType.NO),\n",
    "                RandomDihedral(tfm_y=TfmType.NO),\n",
    "                RandomLighting(0.05, 0.05, tfm_y=TfmType.NO)]\n",
    "    tfms = tfms_from_model(arch, sz, crop_type=CropType.NO, tfm_y=TfmType.NO, \n",
    "                aug_tfms=aug_tfms)\n",
    "    ds = ImageData.get_ds(pdFilesDataset, (tr_n[:-(len(tr_n)%bs)],TRAIN), \n",
    "                (val_n,TRAIN), tfms, test=(test_names,TEST))\n",
    "    md = ImageData(PATH, ds, bs, num_workers=nw, classes=None)\n",
    "#     md.is_multi = False\n",
    "    return md"
   ]
  },
  {
   "cell_type": "code",
   "execution_count": 5,
   "metadata": {},
   "outputs": [],
   "source": [
    "nw = 4   #number of workers for data loader\n",
    "arch = resnet34 #specify target architecture"
   ]
  },
  {
   "cell_type": "code",
   "execution_count": 6,
   "metadata": {},
   "outputs": [],
   "source": [
    "folds = pd.read_csv('../input/folds.csv')"
   ]
  },
  {
   "cell_type": "code",
   "execution_count": null,
   "metadata": {},
   "outputs": [
    {
     "name": "stderr",
     "output_type": "stream",
     "text": [
      "/home/kownse/anaconda3/lib/python3.6/site-packages/fastai/initializers.py:6: UserWarning: nn.init.kaiming_normal is now deprecated in favor of nn.init.kaiming_normal_.\n",
      "  if hasattr(m, 'weight'): init_fn(m.weight)\n"
     ]
    },
    {
     "data": {
      "application/vnd.jupyter.widget-view+json": {
       "model_id": "9d1f0bf8a2c648b6a5d63cf008251b72",
       "version_major": 2,
       "version_minor": 0
      },
      "text/plain": [
       "HBox(children=(IntProgress(value=0, description='Epoch', max=1), HTML(value='')))"
      ]
     },
     "metadata": {},
     "output_type": "display_data"
    },
    {
     "name": "stdout",
     "output_type": "stream",
     "text": [
      "epoch      trn_loss   val_loss   accuracy                      \n",
      "    0      0.187474   0.141278   0.947062  \n",
      "\n"
     ]
    },
    {
     "data": {
      "application/vnd.jupyter.widget-view+json": {
       "model_id": "eec8f54dc273497db308244fb9fb5429",
       "version_major": 2,
       "version_minor": 0
      },
      "text/plain": [
       "HBox(children=(IntProgress(value=0, description='Epoch', max=3), HTML(value='')))"
      ]
     },
     "metadata": {},
     "output_type": "display_data"
    },
    {
     "name": "stdout",
     "output_type": "stream",
     "text": [
      "epoch      trn_loss   val_loss   accuracy                      \n",
      "    0      0.107781   0.082195   0.970507  \n",
      " 71%|███████▏  | 1719/2406 [12:05<04:49,  2.37it/s, loss=0.0723]"
     ]
    },
    {
     "name": "stderr",
     "output_type": "stream",
     "text": [
      "IOPub message rate exceeded.\n",
      "The notebook server will temporarily stop sending output\n",
      "to the client in order to avoid crashing it.\n",
      "To change this limit, set the config variable\n",
      "`--NotebookApp.iopub_msg_rate_limit`.\n",
      "\n",
      "Current values:\n",
      "NotebookApp.iopub_msg_rate_limit=1000.0 (msgs/sec)\n",
      "NotebookApp.rate_limit_window=3.0 (secs)\n",
      "\n"
     ]
    },
    {
     "name": "stdout",
     "output_type": "stream",
     "text": [
      "epoch      trn_loss   val_loss   accuracy                       \n",
      "    0      0.096629   0.069145   0.975803  \n",
      " 55%|█████▍    | 2628/4813 [19:26<16:09,  2.25it/s, loss=0.0916]"
     ]
    }
   ],
   "source": [
    "for i in range(5):\n",
    "    tr_n = folds.loc[folds.fold != i, 'ImageId'].values.tolist()\n",
    "    val_n = folds.loc[folds.fold == i, 'ImageId'].values.tolist()\n",
    "    \n",
    "    for el in exclude_list:\n",
    "        if(el in tr_n): tr_n.remove(el)\n",
    "        if(el in val_n): val_n.remove(el)\n",
    "    \n",
    "    sz = 256 #image size\n",
    "    bs = 64  #batch size\n",
    "\n",
    "    md = get_data(sz,bs, tr_n, val_n)\n",
    "    learn = ConvLearner.pretrained(arch, md, ps=0.5) #dropout 50%\n",
    "    learn.opt_fn = optim.Adam\n",
    "    \n",
    "    learn.fit(2e-3, 1)\n",
    "    \n",
    "    learn.unfreeze()\n",
    "    lr=np.array([1e-4,5e-4,2e-3])\n",
    "    \n",
    "    learn.fit(lr, 1, cycle_len=3, use_clr=(20,8))\n",
    "    path_256 = 'Resnet34_lable_256_fold{}_1'.format(i)\n",
    "    learn.save(path_256)\n",
    "    \n",
    "    \n",
    "    sz = 384 #image size\n",
    "    bs = 32  #batch size\n",
    "\n",
    "    md = get_data(sz,bs, tr_n, val_n)\n",
    "    learn = ConvLearner.pretrained(arch, md, ps=0.5) #dropout 50%\n",
    "    learn.opt_fn = optim.Adam\n",
    "    learn.unfreeze()\n",
    "    lr=np.array([1e-4,5e-4,2e-3])\n",
    "    learn.load(path_256)\n",
    "    \n",
    "    learn.fit(lr/2, 1, cycle_len=10, use_clr=(20,8)) #lr is smaller since bs is only 32\n",
    "    learn.save('Resnet34_lable_384_fold{}_1'.format(i))\n",
    "    \n",
    "    \n",
    "    log_preds,y = learn.predict_with_targs(is_test=True)\n",
    "    probs = np.exp(log_preds)[:,1]\n",
    "    \n",
    "    df = pd.DataFrame({'id':test_names, 'p_ship':probs})\n",
    "    df.to_csv('../result/ship_detection_fold{}.csv'.format(i), header=True, index=False)"
   ]
  },
  {
   "cell_type": "code",
   "execution_count": null,
   "metadata": {},
   "outputs": [],
   "source": []
  }
 ],
 "metadata": {
  "kernelspec": {
   "display_name": "Python 3",
   "language": "python",
   "name": "python3"
  },
  "language_info": {
   "codemirror_mode": {
    "name": "ipython",
    "version": 3
   },
   "file_extension": ".py",
   "mimetype": "text/x-python",
   "name": "python",
   "nbconvert_exporter": "python",
   "pygments_lexer": "ipython3",
   "version": "3.6.5"
  }
 },
 "nbformat": 4,
 "nbformat_minor": 2
}
