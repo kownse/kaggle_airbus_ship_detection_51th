{
 "cells": [
  {
   "cell_type": "code",
   "execution_count": 10,
   "metadata": {},
   "outputs": [],
   "source": [
    "import pandas as pd\n",
    "import numpy as np\n",
    "from ship_mrcnn import *\n",
    "import gc\n",
    "import matplotlib.pyplot as plt\n",
    "from tqdm import tqdm_notebook\n",
    "from skimage import measure\n",
    "from sklearn.neighbors import KDTree\n",
    "from multiprocessing import Pool\n",
    "from skimage.morphology import binary_opening, disk, label\n",
    "import kaggle_util"
   ]
  },
  {
   "cell_type": "code",
   "execution_count": 12,
   "metadata": {},
   "outputs": [],
   "source": [
    "# ref: https://www.kaggle.com/paulorzp/run-length-encode-and-decode\n",
    "def rle_encode(img, min_max_threshold=1e-3, max_mean_threshold=None):\n",
    "    '''\n",
    "    img: numpy array, 1 - mask, 0 - background\n",
    "    Returns run length as string formated\n",
    "    '''\n",
    "    if np.max(img) < min_max_threshold:\n",
    "        return '' ## no need to encode if it's all zeros\n",
    "    if max_mean_threshold and np.mean(img) > max_mean_threshold:\n",
    "        return '' ## ignore overfilled mask\n",
    "    pixels = img.T.flatten()\n",
    "    pixels = np.concatenate([[0], pixels, [0]])\n",
    "    runs = np.where(pixels[1:] != pixels[:-1])[0] + 1\n",
    "    runs[1::2] -= runs[::2]\n",
    "    return ' '.join(str(x) for x in runs)\n",
    "\n",
    "def multi_rle_encode(img, **kwargs):\n",
    "    '''\n",
    "    Encode connected regions as separated masks\n",
    "    '''\n",
    "    labels = label(img)\n",
    "    if img.ndim > 2:\n",
    "        return [rle_encode(np.sum(labels==k, axis=2), **kwargs) for k in np.unique(labels[labels>0])]\n",
    "    else:\n",
    "        return [rle_encode(labels==k, **kwargs) for k in np.unique(labels[labels>0])]"
   ]
  },
  {
   "cell_type": "code",
   "execution_count": 3,
   "metadata": {},
   "outputs": [],
   "source": [
    "def masks_as_image(rle, IMG_WIDTH = 768, IMG_HEIGHT = 768):\n",
    "    # Take the individual ship masks and create a single mask array for all ships\n",
    "    cnt = len(rle)\n",
    "    all_masks = np.zeros((IMG_WIDTH, IMG_HEIGHT, cnt), dtype = np.int8)\n",
    "    for idx, mask in enumerate(rle):\n",
    "        if isinstance(mask, str):\n",
    "            all_masks[:,:,idx] += rle_decode(mask)\n",
    "    return all_masks\n",
    "\n",
    "def make_total_img(masks, IMG_WIDTH = 768, IMG_HEIGHT = 768):\n",
    "    tot_mask = np.zeros((IMG_WIDTH, IMG_HEIGHT), dtype = np.int8)\n",
    "    for i in range(masks.shape[-1]):\n",
    "        tot_mask += masks[...,i]\n",
    "    tot_mask = (tot_mask > 0).astype(np.int8)\n",
    "    return tot_mask\n",
    "\n",
    "def mask_as_one_img(rle, IMG_WIDTH = 768, IMG_HEIGHT = 768):\n",
    "    masks = masks_as_image(rle)\n",
    "    tot_mask = np.zeros((IMG_WIDTH, IMG_HEIGHT), dtype = np.int8)\n",
    "    for i in range(masks.shape[-1]):\n",
    "        tot_mask += masks[...,i]\n",
    "    return tot_mask"
   ]
  },
  {
   "cell_type": "code",
   "execution_count": 4,
   "metadata": {},
   "outputs": [],
   "source": [
    "sublist = [\n",
    "    '../result/sub_1_shiponly_1.csv',\n",
    "    '../result/shiponly_1_sub_1.csv',\n",
    "    '../result/shiponly_2_sub_2.csv',\n",
    "]\n",
    "\n",
    "subs = []\n",
    "for path in sublist:\n",
    "    subs.append(pd.read_csv(path))"
   ]
  },
  {
   "cell_type": "code",
   "execution_count": 38,
   "metadata": {},
   "outputs": [
    {
     "data": {
      "text/plain": [
       "88500"
      ]
     },
     "execution_count": 38,
     "metadata": {},
     "output_type": "execute_result"
    }
   ],
   "source": [
    "imgids = subs[0].ImageId.unique()\n",
    "len(imgids)"
   ]
  },
  {
   "cell_type": "code",
   "execution_count": 39,
   "metadata": {},
   "outputs": [
    {
     "data": {
      "application/vnd.jupyter.widget-view+json": {
       "model_id": "e7938e9eb6364c6dbde0df6723c739ae",
       "version_major": 2,
       "version_minor": 0
      },
      "text/plain": [
       "HBox(children=(IntProgress(value=0, max=88500), HTML(value='')))"
      ]
     },
     "metadata": {},
     "output_type": "display_data"
    },
    {
     "name": "stdout",
     "output_type": "stream",
     "text": [
      "save result\n",
      "upload result\n",
      "cmd: kaggle competitions submit -c airbus-ship-detection -f ../result/mix_mrcnn.csv.7z -m \"submit\"\n"
     ]
    }
   ],
   "source": [
    "\n",
    "\n",
    "out_pred_rows = []\n",
    "prog = tqdm_notebook(total = len(imgids))\n",
    "for idx, imgid in enumerate(imgids):\n",
    "    sub_rle = pd.Series()\n",
    "    for sub in subs:\n",
    "        sub_rle = sub_rle.append(sub.loc[sub.ImageId == imgid, 'EncodedPixels'])\n",
    "        \n",
    "    one_img = mask_as_one_img(sub_rle)\n",
    "    one_img = one_img > 1\n",
    "    cur_rles =  multi_rle_encode(one_img)\n",
    "    if cur_rles == []:\n",
    "        cur_rles = ['']\n",
    "    res = [[imgid, rle] for rle in cur_rles ]\n",
    "    out_pred_rows += res\n",
    "    \n",
    "    prog.update(1)\n",
    "    \n",
    "#     plt.figure(figsize=(10,10))\n",
    "#     plt.imshow(one_img)\n",
    "#     print(idx)\n",
    "#     if idx >= 10:\n",
    "#         break\n",
    "        \n",
    "sub = pd.DataFrame(out_pred_rows)\n",
    "sub.columns = ['ImageId', 'EncodedPixels']\n",
    "\n",
    "kaggle_util.save_result(sub, '../result/mix_mrcnn.csv', competition = 'airbus-ship-detection', \n",
    "                        send = True, index = False)"
   ]
  },
  {
   "cell_type": "code",
   "execution_count": null,
   "metadata": {},
   "outputs": [],
   "source": []
  }
 ],
 "metadata": {
  "kernelspec": {
   "display_name": "Python 3",
   "language": "python",
   "name": "python3"
  },
  "language_info": {
   "codemirror_mode": {
    "name": "ipython",
    "version": 3
   },
   "file_extension": ".py",
   "mimetype": "text/x-python",
   "name": "python",
   "nbconvert_exporter": "python",
   "pygments_lexer": "ipython3",
   "version": "3.6.5"
  }
 },
 "nbformat": 4,
 "nbformat_minor": 2
}
